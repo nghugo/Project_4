{
    "metadata": {
        "kernelspec": {
            "name": "SQL",
            "display_name": "SQL",
            "language": "sql"
        },
        "language_info": {
            "name": "sql",
            "version": ""
        },
        "extensions": {
            "azuredatastudio": {
                "version": 1,
                "views": []
            }
        }
    },
    "nbformat_minor": 2,
    "nbformat": 4,
    "cells": [
        {
            "cell_type": "markdown",
            "source": [
                "# **SQL Wrangling & Analysis | NYPD Complaints | Project 4**\n",
                "\n",
                "## **SQL Skills Applied In This Project**\n",
                "\n",
                "<span style=\"color: black; font-family: Arial, sans-serif; font-size: 10.5pt;\">- Filter (WHERE, HAVING, CASE)</span>\n",
                "\n",
                "<span style=\"color: rgb(0, 0, 0); font-family: Arial, sans-serif;\">- Aggregation (COUNT, SUM, GROUP BY)</span><span style=\"color: black; font-family: Arial, sans-serif; font-size: 10.5pt;\"><br></span>\n",
                "\n",
                "<span style=\"color: rgb(0, 0, 0); font-family: Arial, sans-serif;\">- Subquery, CTE</span><span style=\"color: rgb(0, 0, 0); font-family: Arial, sans-serif;\"><br></span>\n",
                "\n",
                "<span style=\"color: rgb(0, 0, 0); font-family: Arial, sans-serif;\">- Window function and friends (LAG, RANK, PARTITION BY, ORDER BY)</span>\n",
                "\n",
                "<span style=\"color: rgb(0, 0, 0); font-family: Arial, sans-serif;\">- Date manipulation (DATEPART)</span>\n",
                "\n",
                "<span style=\"color: rgb(0, 0, 0); font-family: Arial, sans-serif;\">- Table handling (DROP IF EXISTS, UPDATE)</span><span style=\"color: rgb(0, 0, 0); font-family: Arial, sans-serif;\"><br></span>\n",
                "\n",
                "## **Overview**\n",
                "\n",
                "In this project, we conduct data wrangling and then exploratory data analysis on the valid crimes reported to the New York City Police Department (NYPD) between January 2021 to June 2021 inclusive. \n",
                "\n",
                "At the end of the analysis, we have a conclusion and call to action. These may serve to reflect on and even help guide public safety, NYPD’s resource management, and policy design.\n",
                "\n",
                "For data wrangling part, we first clean our data by handling wrong formats, invalid values, and unnecessary prefixes. Then, we enrich our data by assigning them more meaningful values, if needed.\n",
                "\n",
                "For data analysis part, we explore our data in 8 directions. For example, we look at incident types, boroughs, time periods, demographics, and some relationships among the aforementioned. According to the specific investigation, we transform our data into a suitable format, and select among suitable metrics such as counts, percentages and ranks.\n",
                "\n",
                "## **Licensing**\n",
                "\n",
                "The NYPD Complaint Dataset used in this project comes from [NYC Open Data](https://data.cityofnewyork.us/Public-Safety/NYPD-Complaint-Data-Current-Year-To-Date-/5uac-w243). There are no restrictions on the usage of this data. See NYC Open Data's [FAQ](https://opendata.cityofnewyork.us/faq/) and [terms of use](https://www1.nyc.gov/home/terms-of-use.page) for more information."
            ],
            "metadata": {
                "azdata_cell_guid": "fc377e50-b062-4400-95ab-50598c2043ce"
            },
            "attachments": {}
        },
        {
            "cell_type": "markdown",
            "source": [
                "## **Preview of original dataset `NYPD_Complaint_Data`**\n",
                "\n",
                "Let's look at the number of rows in our dataset."
            ],
            "metadata": {
                "azdata_cell_guid": "09c802ca-41cf-4770-950c-9e7ae6047721"
            },
            "attachments": {}
        },
        {
            "cell_type": "code",
            "source": [
                "SELECT COUNT(*) AS Number_Of_Rows\r\n",
                "FROM Project_4.dbo.NYPD_Complaint_Data"
            ],
            "metadata": {
                "azdata_cell_guid": "3340f86e-6df5-4e0e-aece-9b7027eefe45",
                "tags": []
            },
            "outputs": [
                {
                    "output_type": "display_data",
                    "data": {
                        "text/html": "(1 row affected)"
                    },
                    "metadata": {}
                },
                {
                    "output_type": "display_data",
                    "data": {
                        "text/html": "Total execution time: 00:00:00.026"
                    },
                    "metadata": {}
                },
                {
                    "output_type": "execute_result",
                    "execution_count": 1,
                    "data": {
                        "application/vnd.dataresource+json": {
                            "schema": {
                                "fields": [
                                    {
                                        "name": "Number_Of_Rows"
                                    }
                                ]
                            },
                            "data": [
                                {
                                    "0": "196944"
                                }
                            ]
                        },
                        "text/html": "<table><tr><th>Number_Of_Rows</th></tr><tr><td>196944</td></tr></table>"
                    },
                    "metadata": {}
                }
            ],
            "execution_count": 1
        },
        {
            "cell_type": "markdown",
            "source": [
                "Now print the top 20 rows of the original dataset."
            ],
            "metadata": {
                "azdata_cell_guid": "f22a4674-57bb-41ea-ae22-51cd2110a352"
            },
            "attachments": {}
        },
        {
            "cell_type": "code",
            "source": [
                "SELECT TOP (20) *\r\n",
                "FROM Project_4.dbo.NYPD_Complaint_Data"
            ],
            "metadata": {
                "azdata_cell_guid": "3f1398ee-8733-41ab-8069-ec5a9057df5c",
                "tags": []
            },
            "outputs": [
                {
                    "output_type": "display_data",
                    "data": {
                        "text/html": "(20 rows affected)"
                    },
                    "metadata": {}
                },
                {
                    "output_type": "display_data",
                    "data": {
                        "text/html": "Total execution time: 00:00:00.004"
                    },
                    "metadata": {}
                },
                {
                    "output_type": "execute_result",
                    "execution_count": 2,
                    "data": {
                        "application/vnd.dataresource+json": {
                            "schema": {
                                "fields": [
                                    {
                                        "name": "CMPLNT_NUM"
                                    },
                                    {
                                        "name": "BORO_NM"
                                    },
                                    {
                                        "name": "CMPLNT_FR_DT"
                                    },
                                    {
                                        "name": "CMPLNT_FR_TM"
                                    },
                                    {
                                        "name": "LAW_CAT_CD"
                                    },
                                    {
                                        "name": "OFNS_DESC"
                                    },
                                    {
                                        "name": "PATROL_BORO"
                                    },
                                    {
                                        "name": "PD_DESC"
                                    },
                                    {
                                        "name": "PREM_TYP_DESC"
                                    },
                                    {
                                        "name": "SUSP_AGE_GROUP"
                                    },
                                    {
                                        "name": "SUSP_RACE"
                                    },
                                    {
                                        "name": "SUSP_SEX"
                                    },
                                    {
                                        "name": "VIC_AGE_GROUP"
                                    },
                                    {
                                        "name": "VIC_RACE"
                                    },
                                    {
                                        "name": "VIC_SEX"
                                    }
                                ]
                            },
                            "data": [
                                {
                                    "0": "758521794",
                                    "1": "NULL",
                                    "2": "03-07-21",
                                    "3": "01:50:00",
                                    "4": "FELONY",
                                    "5": "MURDER & NON-NEGL. MANSLAUGHTER",
                                    "6": "NULL",
                                    "7": "NULL",
                                    "8": "NULL",
                                    "9": "UNKNOWN",
                                    "10": "NULL",
                                    "11": "NULL",
                                    "12": "18-24",
                                    "13": "BLACK",
                                    "14": "M"
                                },
                                {
                                    "0": "696896951",
                                    "1": "NULL",
                                    "2": "03/26/2021",
                                    "3": "18:40:00",
                                    "4": "FELONY",
                                    "5": "MURDER & NON-NEGL. MANSLAUGHTER",
                                    "6": "NULL",
                                    "7": "NULL",
                                    "8": "NULL",
                                    "9": "UNKNOWN",
                                    "10": "NULL",
                                    "11": "NULL",
                                    "12": "25-44",
                                    "13": "BLACK HISPANIC",
                                    "14": "M"
                                },
                                {
                                    "0": "972479923",
                                    "1": "BROOKLYN",
                                    "2": "03/27/2021",
                                    "3": "15:55:00",
                                    "4": "FELONY",
                                    "5": "FORGERY",
                                    "6": "PATROL BORO BKLYN NORTH",
                                    "7": "FORGERY,ETC.,UNCLASSIFIED-FELO",
                                    "8": "DEPARTMENT STORE",
                                    "9": "25-44",
                                    "10": "WHITE HISPANIC",
                                    "11": "M",
                                    "12": "25-44",
                                    "13": "BLACK",
                                    "14": "F"
                                },
                                {
                                    "0": "109344500",
                                    "1": "BROOKLYN",
                                    "2": "03/28/2021",
                                    "3": "11:10:00",
                                    "4": "FELONY",
                                    "5": "GRAND LARCENY",
                                    "6": "PATROL BORO BKLYN NORTH",
                                    "7": "LARCENY,GRAND OF VEHICULAR/MOTORCYCLE ACCESSORIES",
                                    "8": "STREET",
                                    "9": "UNKNOWN",
                                    "10": "NULL",
                                    "11": "NULL",
                                    "12": "UNKNOWN",
                                    "13": "UNKNOWN",
                                    "14": "D"
                                },
                                {
                                    "0": "673945415",
                                    "1": "NULL",
                                    "2": "03/29/2021",
                                    "3": "23:13:00",
                                    "4": "FELONY",
                                    "5": "MURDER & NON-NEGL. MANSLAUGHTER",
                                    "6": "NULL",
                                    "7": "NULL",
                                    "8": "NULL",
                                    "9": "UNKNOWN",
                                    "10": "NULL",
                                    "11": "NULL",
                                    "12": "25-44",
                                    "13": "WHITE HISPANIC",
                                    "14": "M"
                                },
                                {
                                    "0": "239448064",
                                    "1": "BROOKLYN",
                                    "2": "03/24/2021",
                                    "3": "06:16:00",
                                    "4": "FELONY",
                                    "5": "FELONY ASSAULT",
                                    "6": "PATROL BORO BKLYN NORTH",
                                    "7": "ASSAULT 2,1,UNCLASSIFIED",
                                    "8": "GROCERY/BODEGA",
                                    "9": "UNKNOWN",
                                    "10": "NULL",
                                    "11": "NULL",
                                    "12": "45-64",
                                    "13": "BLACK",
                                    "14": "M"
                                },
                                {
                                    "0": "186160435",
                                    "1": "QUEENS",
                                    "2": "03/23/2021",
                                    "3": "22:30:00",
                                    "4": "FELONY",
                                    "5": "GRAND LARCENY",
                                    "6": "PATROL BORO QUEENS SOUTH",
                                    "7": "LARCENY,GRAND FROM VEHICLE/MOTORCYCLE",
                                    "8": "STREET",
                                    "9": "UNKNOWN",
                                    "10": "UNKNOWN",
                                    "11": "U",
                                    "12": "18-24",
                                    "13": "BLACK",
                                    "14": "F"
                                },
                                {
                                    "0": "504820958",
                                    "1": "NULL",
                                    "2": "03/13/2021",
                                    "3": "00:56:00",
                                    "4": "FELONY",
                                    "5": "MURDER & NON-NEGL. MANSLAUGHTER",
                                    "6": "NULL",
                                    "7": "NULL",
                                    "8": "NULL",
                                    "9": "UNKNOWN",
                                    "10": "NULL",
                                    "11": "NULL",
                                    "12": "18-24",
                                    "13": "BLACK",
                                    "14": "M"
                                },
                                {
                                    "0": "930217059",
                                    "1": "BRONX",
                                    "2": "03/15/2021",
                                    "3": "11:00:00",
                                    "4": "MISDEMEANOR",
                                    "5": "PETIT LARCENY",
                                    "6": "PATROL BORO BRONX",
                                    "7": "LARCENY,PETIT OF VEHICLE ACCES",
                                    "8": "STREET",
                                    "9": "UNKNOWN",
                                    "10": "NULL",
                                    "11": "NULL",
                                    "12": "25-44",
                                    "13": "BLACK",
                                    "14": "M"
                                },
                                {
                                    "0": "156303096",
                                    "1": "QUEENS",
                                    "2": "02/19/2021",
                                    "3": "16:00:00",
                                    "4": "FELONY",
                                    "5": "THEFT-FRAUD",
                                    "6": "PATROL BORO QUEENS NORTH",
                                    "7": "FRAUD,UNCLASSIFIED-FELONY",
                                    "8": "RESIDENCE-HOUSE",
                                    "9": "UNKNOWN",
                                    "10": "NULL",
                                    "11": "NULL",
                                    "12": "25-44",
                                    "13": "WHITE",
                                    "14": "F"
                                },
                                {
                                    "0": "194865463",
                                    "1": "BRONX",
                                    "2": "03/15/2021",
                                    "3": "15:57:00",
                                    "4": "FELONY",
                                    "5": "DANGEROUS WEAPONS",
                                    "6": "PATROL BORO BRONX",
                                    "7": "WEAPONS POSSESSION 3",
                                    "8": "CANDY STORE",
                                    "9": "UNKNOWN",
                                    "10": "NULL",
                                    "11": "NULL",
                                    "12": "UNKNOWN",
                                    "13": "UNKNOWN",
                                    "14": "E"
                                },
                                {
                                    "0": "479068420",
                                    "1": "BRONX",
                                    "2": "03/20/2021",
                                    "3": "20:45:00",
                                    "4": "FELONY",
                                    "5": "DANGEROUS WEAPONS",
                                    "6": "PATROL BORO BRONX",
                                    "7": "WEAPONS POSSESSION 1 & 2",
                                    "8": "STREET",
                                    "9": "UNKNOWN",
                                    "10": "NULL",
                                    "11": "NULL",
                                    "12": "UNKNOWN",
                                    "13": "UNKNOWN",
                                    "14": "E"
                                },
                                {
                                    "0": "480312125",
                                    "1": "BRONX",
                                    "2": "03/19/2021",
                                    "3": "22:15:00",
                                    "4": "VIOLATION",
                                    "5": "HARRASSMENT 2",
                                    "6": "PATROL BORO BRONX",
                                    "7": "HARASSMENT,SUBD 3,4,5",
                                    "8": "STREET",
                                    "9": "25-44",
                                    "10": "UNKNOWN",
                                    "11": "F",
                                    "12": "25-44",
                                    "13": "WHITE",
                                    "14": "F"
                                },
                                {
                                    "0": "957810616",
                                    "1": "MANHATTAN",
                                    "2": "02/25/2021",
                                    "3": "18:15:00",
                                    "4": "VIOLATION",
                                    "5": "HARRASSMENT 2",
                                    "6": "PATROL BORO MAN SOUTH",
                                    "7": "HARASSMENT,SUBD 3,4,5",
                                    "8": "NULL",
                                    "9": "UNKNOWN",
                                    "10": "UNKNOWN",
                                    "11": "U",
                                    "12": "25-44",
                                    "13": "WHITE HISPANIC",
                                    "14": "F"
                                },
                                {
                                    "0": "738990323",
                                    "1": "MANHATTAN",
                                    "2": "03-09-21",
                                    "3": "19:45:00",
                                    "4": "MISDEMEANOR",
                                    "5": "DANGEROUS WEAPONS",
                                    "6": "PATROL BORO MAN NORTH",
                                    "7": "WEAPONS, POSSESSION, ETC",
                                    "8": "STREET",
                                    "9": "18-24",
                                    "10": "BLACK",
                                    "11": "M",
                                    "12": "UNKNOWN",
                                    "13": "UNKNOWN",
                                    "14": "E"
                                },
                                {
                                    "0": "126186881",
                                    "1": "MANHATTAN",
                                    "2": "03-03-21",
                                    "3": "16:17:00",
                                    "4": "FELONY",
                                    "5": "BURGLARY",
                                    "6": "PATROL BORO MAN SOUTH",
                                    "7": "BURGLARY,COMMERCIAL,DAY",
                                    "8": "DEPARTMENT STORE",
                                    "9": "UNKNOWN",
                                    "10": "NULL",
                                    "11": "NULL",
                                    "12": "UNKNOWN",
                                    "13": "UNKNOWN",
                                    "14": "D"
                                },
                                {
                                    "0": "216776563",
                                    "1": "QUEENS",
                                    "2": "03-06-21",
                                    "3": "20:00:00",
                                    "4": "FELONY",
                                    "5": "DANGEROUS WEAPONS",
                                    "6": "PATROL BORO QUEENS SOUTH",
                                    "7": "WEAPONS POSSESSION 3",
                                    "8": "STREET",
                                    "9": "UNKNOWN",
                                    "10": "NULL",
                                    "11": "NULL",
                                    "12": "UNKNOWN",
                                    "13": "UNKNOWN",
                                    "14": "E"
                                },
                                {
                                    "0": "316569357",
                                    "1": "BRONX",
                                    "2": "03-11-21",
                                    "3": "18:10:00",
                                    "4": "VIOLATION",
                                    "5": "HARRASSMENT 2",
                                    "6": "PATROL BORO BRONX",
                                    "7": "HARASSMENT,SUBD 3,4,5",
                                    "8": "GROCERY/BODEGA",
                                    "9": "UNKNOWN",
                                    "10": "BLACK",
                                    "11": "F",
                                    "12": "18-24",
                                    "13": "WHITE HISPANIC",
                                    "14": "F"
                                },
                                {
                                    "0": "142275129",
                                    "1": "NULL",
                                    "2": "03-05-21",
                                    "3": "17:15:00",
                                    "4": "FELONY",
                                    "5": "MURDER & NON-NEGL. MANSLAUGHTER",
                                    "6": "NULL",
                                    "7": "NULL",
                                    "8": "NULL",
                                    "9": "UNKNOWN",
                                    "10": "NULL",
                                    "11": "NULL",
                                    "12": "25-44",
                                    "13": "BLACK",
                                    "14": "M"
                                },
                                {
                                    "0": "972721133",
                                    "1": "NULL",
                                    "2": "02/22/2021",
                                    "3": "22:58:00",
                                    "4": "FELONY",
                                    "5": "MURDER & NON-NEGL. MANSLAUGHTER",
                                    "6": "NULL",
                                    "7": "NULL",
                                    "8": "NULL",
                                    "9": "UNKNOWN",
                                    "10": "NULL",
                                    "11": "NULL",
                                    "12": "25-44",
                                    "13": "BLACK",
                                    "14": "M"
                                }
                            ]
                        },
                        "text/html": "<table><tr><th>CMPLNT_NUM</th><th>BORO_NM</th><th>CMPLNT_FR_DT</th><th>CMPLNT_FR_TM</th><th>LAW_CAT_CD</th><th>OFNS_DESC</th><th>PATROL_BORO</th><th>PD_DESC</th><th>PREM_TYP_DESC</th><th>SUSP_AGE_GROUP</th><th>SUSP_RACE</th><th>SUSP_SEX</th><th>VIC_AGE_GROUP</th><th>VIC_RACE</th><th>VIC_SEX</th></tr><tr><td>758521794</td><td>NULL</td><td>03-07-21</td><td>01:50:00</td><td>FELONY</td><td>MURDER &amp; NON-NEGL. MANSLAUGHTER</td><td>NULL</td><td>NULL</td><td>NULL</td><td>UNKNOWN</td><td>NULL</td><td>NULL</td><td>18-24</td><td>BLACK</td><td>M</td></tr><tr><td>696896951</td><td>NULL</td><td>03/26/2021</td><td>18:40:00</td><td>FELONY</td><td>MURDER &amp; NON-NEGL. MANSLAUGHTER</td><td>NULL</td><td>NULL</td><td>NULL</td><td>UNKNOWN</td><td>NULL</td><td>NULL</td><td>25-44</td><td>BLACK HISPANIC</td><td>M</td></tr><tr><td>972479923</td><td>BROOKLYN</td><td>03/27/2021</td><td>15:55:00</td><td>FELONY</td><td>FORGERY</td><td>PATROL BORO BKLYN NORTH</td><td>FORGERY,ETC.,UNCLASSIFIED-FELO</td><td>DEPARTMENT STORE</td><td>25-44</td><td>WHITE HISPANIC</td><td>M</td><td>25-44</td><td>BLACK</td><td>F</td></tr><tr><td>109344500</td><td>BROOKLYN</td><td>03/28/2021</td><td>11:10:00</td><td>FELONY</td><td>GRAND LARCENY</td><td>PATROL BORO BKLYN NORTH</td><td>LARCENY,GRAND OF VEHICULAR/MOTORCYCLE ACCESSORIES</td><td>STREET</td><td>UNKNOWN</td><td>NULL</td><td>NULL</td><td>UNKNOWN</td><td>UNKNOWN</td><td>D</td></tr><tr><td>673945415</td><td>NULL</td><td>03/29/2021</td><td>23:13:00</td><td>FELONY</td><td>MURDER &amp; NON-NEGL. MANSLAUGHTER</td><td>NULL</td><td>NULL</td><td>NULL</td><td>UNKNOWN</td><td>NULL</td><td>NULL</td><td>25-44</td><td>WHITE HISPANIC</td><td>M</td></tr><tr><td>239448064</td><td>BROOKLYN</td><td>03/24/2021</td><td>06:16:00</td><td>FELONY</td><td>FELONY ASSAULT</td><td>PATROL BORO BKLYN NORTH</td><td>ASSAULT 2,1,UNCLASSIFIED</td><td>GROCERY/BODEGA</td><td>UNKNOWN</td><td>NULL</td><td>NULL</td><td>45-64</td><td>BLACK</td><td>M</td></tr><tr><td>186160435</td><td>QUEENS</td><td>03/23/2021</td><td>22:30:00</td><td>FELONY</td><td>GRAND LARCENY</td><td>PATROL BORO QUEENS SOUTH</td><td>LARCENY,GRAND FROM VEHICLE/MOTORCYCLE</td><td>STREET</td><td>UNKNOWN</td><td>UNKNOWN</td><td>U</td><td>18-24</td><td>BLACK</td><td>F</td></tr><tr><td>504820958</td><td>NULL</td><td>03/13/2021</td><td>00:56:00</td><td>FELONY</td><td>MURDER &amp; NON-NEGL. MANSLAUGHTER</td><td>NULL</td><td>NULL</td><td>NULL</td><td>UNKNOWN</td><td>NULL</td><td>NULL</td><td>18-24</td><td>BLACK</td><td>M</td></tr><tr><td>930217059</td><td>BRONX</td><td>03/15/2021</td><td>11:00:00</td><td>MISDEMEANOR</td><td>PETIT LARCENY</td><td>PATROL BORO BRONX</td><td>LARCENY,PETIT OF VEHICLE ACCES</td><td>STREET</td><td>UNKNOWN</td><td>NULL</td><td>NULL</td><td>25-44</td><td>BLACK</td><td>M</td></tr><tr><td>156303096</td><td>QUEENS</td><td>02/19/2021</td><td>16:00:00</td><td>FELONY</td><td>THEFT-FRAUD</td><td>PATROL BORO QUEENS NORTH</td><td>FRAUD,UNCLASSIFIED-FELONY</td><td>RESIDENCE-HOUSE</td><td>UNKNOWN</td><td>NULL</td><td>NULL</td><td>25-44</td><td>WHITE</td><td>F</td></tr><tr><td>194865463</td><td>BRONX</td><td>03/15/2021</td><td>15:57:00</td><td>FELONY</td><td>DANGEROUS WEAPONS</td><td>PATROL BORO BRONX</td><td>WEAPONS POSSESSION 3</td><td>CANDY STORE</td><td>UNKNOWN</td><td>NULL</td><td>NULL</td><td>UNKNOWN</td><td>UNKNOWN</td><td>E</td></tr><tr><td>479068420</td><td>BRONX</td><td>03/20/2021</td><td>20:45:00</td><td>FELONY</td><td>DANGEROUS WEAPONS</td><td>PATROL BORO BRONX</td><td>WEAPONS POSSESSION 1 &amp; 2</td><td>STREET</td><td>UNKNOWN</td><td>NULL</td><td>NULL</td><td>UNKNOWN</td><td>UNKNOWN</td><td>E</td></tr><tr><td>480312125</td><td>BRONX</td><td>03/19/2021</td><td>22:15:00</td><td>VIOLATION</td><td>HARRASSMENT 2</td><td>PATROL BORO BRONX</td><td>HARASSMENT,SUBD 3,4,5</td><td>STREET</td><td>25-44</td><td>UNKNOWN</td><td>F</td><td>25-44</td><td>WHITE</td><td>F</td></tr><tr><td>957810616</td><td>MANHATTAN</td><td>02/25/2021</td><td>18:15:00</td><td>VIOLATION</td><td>HARRASSMENT 2</td><td>PATROL BORO MAN SOUTH</td><td>HARASSMENT,SUBD 3,4,5</td><td>NULL</td><td>UNKNOWN</td><td>UNKNOWN</td><td>U</td><td>25-44</td><td>WHITE HISPANIC</td><td>F</td></tr><tr><td>738990323</td><td>MANHATTAN</td><td>03-09-21</td><td>19:45:00</td><td>MISDEMEANOR</td><td>DANGEROUS WEAPONS</td><td>PATROL BORO MAN NORTH</td><td>WEAPONS, POSSESSION, ETC</td><td>STREET</td><td>18-24</td><td>BLACK</td><td>M</td><td>UNKNOWN</td><td>UNKNOWN</td><td>E</td></tr><tr><td>126186881</td><td>MANHATTAN</td><td>03-03-21</td><td>16:17:00</td><td>FELONY</td><td>BURGLARY</td><td>PATROL BORO MAN SOUTH</td><td>BURGLARY,COMMERCIAL,DAY</td><td>DEPARTMENT STORE</td><td>UNKNOWN</td><td>NULL</td><td>NULL</td><td>UNKNOWN</td><td>UNKNOWN</td><td>D</td></tr><tr><td>216776563</td><td>QUEENS</td><td>03-06-21</td><td>20:00:00</td><td>FELONY</td><td>DANGEROUS WEAPONS</td><td>PATROL BORO QUEENS SOUTH</td><td>WEAPONS POSSESSION 3</td><td>STREET</td><td>UNKNOWN</td><td>NULL</td><td>NULL</td><td>UNKNOWN</td><td>UNKNOWN</td><td>E</td></tr><tr><td>316569357</td><td>BRONX</td><td>03-11-21</td><td>18:10:00</td><td>VIOLATION</td><td>HARRASSMENT 2</td><td>PATROL BORO BRONX</td><td>HARASSMENT,SUBD 3,4,5</td><td>GROCERY/BODEGA</td><td>UNKNOWN</td><td>BLACK</td><td>F</td><td>18-24</td><td>WHITE HISPANIC</td><td>F</td></tr><tr><td>142275129</td><td>NULL</td><td>03-05-21</td><td>17:15:00</td><td>FELONY</td><td>MURDER &amp; NON-NEGL. MANSLAUGHTER</td><td>NULL</td><td>NULL</td><td>NULL</td><td>UNKNOWN</td><td>NULL</td><td>NULL</td><td>25-44</td><td>BLACK</td><td>M</td></tr><tr><td>972721133</td><td>NULL</td><td>02/22/2021</td><td>22:58:00</td><td>FELONY</td><td>MURDER &amp; NON-NEGL. MANSLAUGHTER</td><td>NULL</td><td>NULL</td><td>NULL</td><td>UNKNOWN</td><td>NULL</td><td>NULL</td><td>25-44</td><td>BLACK</td><td>M</td></tr></table>"
                    },
                    "metadata": {}
                }
            ],
            "execution_count": 2
        },
        {
            "cell_type": "markdown",
            "source": [
                "## **Fields explained**\n",
                "\n",
                "According to [the dataset's documentation](https://data.cityofnewyork.us/Public-Safety/NYPD-Complaint-Data-Current-Year-To-Date-/5uac-w243), the fields (columns) are defined as follows:\n",
                "\n",
                "|  |  |\n",
                "| --- | --- |\n",
                "| **CMPLNT\\_NUM** | Randomly generated persistent ID for each complaint |\n",
                "| **BORO\\_NM** | The name of the borough in which the incident occurred |\n",
                "| **CMPLNT\\_FR\\_DT** | Exact date of occurrence for the reported event |\n",
                "| **CMPLNT\\_FR\\_TM** | Exact time of occurrence for the reported event |\n",
                "| **LAW\\_CAT\\_CD** | Level of offense: felony, misdemeanour, violation |\n",
                "| **OFNS\\_DESC** | Description of offense corresponding with key code |\n",
                "| **PATROL\\_BORO** | The name of the patrol borough in which the incident occurred |\n",
                "| **PD\\_DESC** | Description of internal classification of offense (more granular than Offense Description) |\n",
                "| **PREM\\_TYP\\_DESC** | Specific description of premises: grocery store, residence, street, etc |\n",
                "| **SUSP\\_AGE\\_GROUP** | Suspect's Age Group |\n",
                "| **SUSP\\_RACE** | Suspect's Race Description |\n",
                "| **SUSP\\_SEX** | Suspect's Sex Description |\n",
                "| **VIC\\_AGE\\_GROUP** | Victim's Age Group |\n",
                "| **VIC\\_RACE** | Victim's Race Description |\n",
                "| **VIC\\_SEX** | Victim's Sex Description |"
            ],
            "metadata": {
                "azdata_cell_guid": "16575f87-2b37-4af0-b3ff-3e3007cb714e"
            },
            "attachments": {}
        },
        {
            "cell_type": "markdown",
            "source": [
                "## **Messy data: `NYPD_Complaint_Data`**\n",
                "\n",
                "Upon printing our data, we notice a number of problems that make our data untidy:\n",
                "\n",
                "1.  `CMPLNT_FR_DT` contains different formats of date, namely MM-DD-YY and MM/DD/YYYY   \n",
                "\n",
                "2.  `SUSP_AGE_GROUP`, `SUSP_RACE`, `VIC_AGE_GROUP`, `VIC_RACE` have `UNKNOWN` values when these values should be `NULL`\n",
                "\n",
                "3.   In the column `PATROL_BORO`, we don't need the prefix 'PATROL BORO ' in the values\n",
                "\n",
                "4.   In the column `SUSP_SEX` and `VIC_SEX`, we should replace values as follows, such that they are meaningful:\n",
                "\n",
                "|  |  |\n",
                "| --- | --- |\n",
                "| **From** | **Change to** |\n",
                "| D | Organization |\n",
                "| E | NULL |\n",
                "| F | Female |\n",
                "| M | Male |\n",
                "| U | NULL |"
            ],
            "metadata": {
                "azdata_cell_guid": "837da503-13ed-476d-9797-24f86da56990"
            },
            "attachments": {}
        },
        {
            "cell_type": "markdown",
            "source": [
                "Let's query the columns to be changed, and their converted versions. For readibility, we won't select columns that don't need changing in this query.\n",
                "\n",
                "For the original columns, we suffix them with '\\_old'. For the converted columns, we suffix them with '\\_new'.\n",
                "\n",
                "Once we visually confirm that the results are indeed what we want, we can create a view with the dataset fully converted."
            ],
            "metadata": {
                "azdata_cell_guid": "ffd728c7-a04e-4fc9-9a7b-0b1d744a403f"
            },
            "attachments": {}
        },
        {
            "cell_type": "code",
            "source": [
                "SELECT TOP(20)\r\n",
                "\r\n",
                "-- Messy data 1: fix date format\r\n",
                "    CMPLNT_FR_DT AS CMPLNT_FR_DT_old,\r\n",
                "    CONVERT(DATE, CMPLNT_FR_DT) AS CMPLNT_FR_DT_new,\r\n",
                "\r\n",
                "-- Messy data 2: UNKNOWN values should be NULL\r\n",
                "    SUSP_AGE_GROUP AS SUSP_AGE_GROUP_old,\r\n",
                "    CASE WHEN SUSP_AGE_GROUP = 'UNKNOWN' THEN NULL ELSE SUSP_AGE_GROUP END AS SUSP_AGE_GROUP_new,\r\n",
                "    \r\n",
                "    SUSP_RACE AS SUSP_RACE_old,\r\n",
                "    CASE WHEN SUSP_RACE = 'UNKNOWN' THEN NULL ELSE SUSP_RACE END AS SUSP_RACE_new,\r\n",
                "\r\n",
                "    VIC_AGE_GROUP AS VIC_AGE_GROUP_old,\r\n",
                "    CASE WHEN VIC_AGE_GROUP = 'UNKNOWN' THEN NULL ELSE VIC_AGE_GROUP END AS VIC_AGE_GROUP_new,\r\n",
                "\r\n",
                "    VIC_RACE AS VIC_RACE_old,\r\n",
                "    CASE WHEN VIC_RACE = 'UNKNOWN' THEN NULL ELSE VIC_RACE END AS VIC_RACE_new,\r\n",
                "\r\n",
                "-- Messy data 3: Remove PATROL_BORO prefix\r\n",
                "    PATROL_BORO AS PATROL_BORO_old,\r\n",
                "    CASE \r\n",
                "        WHEN PATROL_BORO LIKE 'PATROL BORO %' THEN Replace(PATROL_BORO, 'PATROL BORO ', '')\r\n",
                "        ELSE PATROL_BORO \r\n",
                "    END AS PATROL_BORO_new,\r\n",
                "\r\n",
                "-- Messy data 4: Make VIC_SEX, SUSP_SEX values meaningful\r\n",
                "    SUSP_SEX AS SUSP_SEX_old,\r\n",
                "    CASE \r\n",
                "        WHEN SUSP_SEX = 'F' THEN 'FEMALE'\r\n",
                "        WHEN SUSP_SEX = 'M' THEN 'MALE'\r\n",
                "        WHEN SUSP_SEX = 'U' THEN NULL\r\n",
                "    END AS SUSP_SEX_new,\r\n",
                "\r\n",
                "    VIC_SEX AS VIC_SEX_old,\r\n",
                "    CASE \r\n",
                "        WHEN VIC_SEX = 'D' THEN 'ORGANIZATION'\r\n",
                "        WHEN VIC_SEX = 'E' THEN  NULL\r\n",
                "        WHEN VIC_SEX = 'F' THEN 'FEMALE'\r\n",
                "        WHEN VIC_SEX = 'M' THEN 'MALE'\r\n",
                "        WHEN VIC_SEX = 'U' THEN NULL\r\n",
                "    END AS VIC_SEX_new\r\n",
                "\r\n",
                "FROM Project_4.dbo.NYPD_Complaint_Data"
            ],
            "metadata": {
                "azdata_cell_guid": "003b2329-2975-4cb9-9111-0af5f64f52f7"
            },
            "outputs": [
                {
                    "output_type": "display_data",
                    "data": {
                        "text/html": "(20 rows affected)"
                    },
                    "metadata": {}
                },
                {
                    "output_type": "display_data",
                    "data": {
                        "text/html": "Total execution time: 00:00:00.008"
                    },
                    "metadata": {}
                },
                {
                    "output_type": "execute_result",
                    "execution_count": 3,
                    "data": {
                        "application/vnd.dataresource+json": {
                            "schema": {
                                "fields": [
                                    {
                                        "name": "CMPLNT_FR_DT_old"
                                    },
                                    {
                                        "name": "CMPLNT_FR_DT_new"
                                    },
                                    {
                                        "name": "SUSP_AGE_GROUP_old"
                                    },
                                    {
                                        "name": "SUSP_AGE_GROUP_new"
                                    },
                                    {
                                        "name": "SUSP_RACE_old"
                                    },
                                    {
                                        "name": "SUSP_RACE_new"
                                    },
                                    {
                                        "name": "VIC_AGE_GROUP_old"
                                    },
                                    {
                                        "name": "VIC_AGE_GROUP_new"
                                    },
                                    {
                                        "name": "VIC_RACE_old"
                                    },
                                    {
                                        "name": "VIC_RACE_new"
                                    },
                                    {
                                        "name": "PATROL_BORO_old"
                                    },
                                    {
                                        "name": "PATROL_BORO_new"
                                    },
                                    {
                                        "name": "SUSP_SEX_old"
                                    },
                                    {
                                        "name": "SUSP_SEX_new"
                                    },
                                    {
                                        "name": "VIC_SEX_old"
                                    },
                                    {
                                        "name": "VIC_SEX_new"
                                    }
                                ]
                            },
                            "data": [
                                {
                                    "0": "03-07-21",
                                    "1": "2021-03-07",
                                    "2": "UNKNOWN",
                                    "3": "NULL",
                                    "4": "NULL",
                                    "5": "NULL",
                                    "6": "18-24",
                                    "7": "18-24",
                                    "8": "BLACK",
                                    "9": "BLACK",
                                    "10": "NULL",
                                    "11": "NULL",
                                    "12": "NULL",
                                    "13": "NULL",
                                    "14": "M",
                                    "15": "MALE"
                                },
                                {
                                    "0": "03/26/2021",
                                    "1": "2021-03-26",
                                    "2": "UNKNOWN",
                                    "3": "NULL",
                                    "4": "NULL",
                                    "5": "NULL",
                                    "6": "25-44",
                                    "7": "25-44",
                                    "8": "BLACK HISPANIC",
                                    "9": "BLACK HISPANIC",
                                    "10": "NULL",
                                    "11": "NULL",
                                    "12": "NULL",
                                    "13": "NULL",
                                    "14": "M",
                                    "15": "MALE"
                                },
                                {
                                    "0": "03/27/2021",
                                    "1": "2021-03-27",
                                    "2": "25-44",
                                    "3": "25-44",
                                    "4": "WHITE HISPANIC",
                                    "5": "WHITE HISPANIC",
                                    "6": "25-44",
                                    "7": "25-44",
                                    "8": "BLACK",
                                    "9": "BLACK",
                                    "10": "PATROL BORO BKLYN NORTH",
                                    "11": "BKLYN NORTH",
                                    "12": "M",
                                    "13": "MALE",
                                    "14": "F",
                                    "15": "FEMALE"
                                },
                                {
                                    "0": "03/28/2021",
                                    "1": "2021-03-28",
                                    "2": "UNKNOWN",
                                    "3": "NULL",
                                    "4": "NULL",
                                    "5": "NULL",
                                    "6": "UNKNOWN",
                                    "7": "NULL",
                                    "8": "UNKNOWN",
                                    "9": "NULL",
                                    "10": "PATROL BORO BKLYN NORTH",
                                    "11": "BKLYN NORTH",
                                    "12": "NULL",
                                    "13": "NULL",
                                    "14": "D",
                                    "15": "ORGANIZATION"
                                },
                                {
                                    "0": "03/29/2021",
                                    "1": "2021-03-29",
                                    "2": "UNKNOWN",
                                    "3": "NULL",
                                    "4": "NULL",
                                    "5": "NULL",
                                    "6": "25-44",
                                    "7": "25-44",
                                    "8": "WHITE HISPANIC",
                                    "9": "WHITE HISPANIC",
                                    "10": "NULL",
                                    "11": "NULL",
                                    "12": "NULL",
                                    "13": "NULL",
                                    "14": "M",
                                    "15": "MALE"
                                },
                                {
                                    "0": "03/24/2021",
                                    "1": "2021-03-24",
                                    "2": "UNKNOWN",
                                    "3": "NULL",
                                    "4": "NULL",
                                    "5": "NULL",
                                    "6": "45-64",
                                    "7": "45-64",
                                    "8": "BLACK",
                                    "9": "BLACK",
                                    "10": "PATROL BORO BKLYN NORTH",
                                    "11": "BKLYN NORTH",
                                    "12": "NULL",
                                    "13": "NULL",
                                    "14": "M",
                                    "15": "MALE"
                                },
                                {
                                    "0": "03/23/2021",
                                    "1": "2021-03-23",
                                    "2": "UNKNOWN",
                                    "3": "NULL",
                                    "4": "UNKNOWN",
                                    "5": "NULL",
                                    "6": "18-24",
                                    "7": "18-24",
                                    "8": "BLACK",
                                    "9": "BLACK",
                                    "10": "PATROL BORO QUEENS SOUTH",
                                    "11": "QUEENS SOUTH",
                                    "12": "U",
                                    "13": "NULL",
                                    "14": "F",
                                    "15": "FEMALE"
                                },
                                {
                                    "0": "03/13/2021",
                                    "1": "2021-03-13",
                                    "2": "UNKNOWN",
                                    "3": "NULL",
                                    "4": "NULL",
                                    "5": "NULL",
                                    "6": "18-24",
                                    "7": "18-24",
                                    "8": "BLACK",
                                    "9": "BLACK",
                                    "10": "NULL",
                                    "11": "NULL",
                                    "12": "NULL",
                                    "13": "NULL",
                                    "14": "M",
                                    "15": "MALE"
                                },
                                {
                                    "0": "03/15/2021",
                                    "1": "2021-03-15",
                                    "2": "UNKNOWN",
                                    "3": "NULL",
                                    "4": "NULL",
                                    "5": "NULL",
                                    "6": "25-44",
                                    "7": "25-44",
                                    "8": "BLACK",
                                    "9": "BLACK",
                                    "10": "PATROL BORO BRONX",
                                    "11": "BRONX",
                                    "12": "NULL",
                                    "13": "NULL",
                                    "14": "M",
                                    "15": "MALE"
                                },
                                {
                                    "0": "02/19/2021",
                                    "1": "2021-02-19",
                                    "2": "UNKNOWN",
                                    "3": "NULL",
                                    "4": "NULL",
                                    "5": "NULL",
                                    "6": "25-44",
                                    "7": "25-44",
                                    "8": "WHITE",
                                    "9": "WHITE",
                                    "10": "PATROL BORO QUEENS NORTH",
                                    "11": "QUEENS NORTH",
                                    "12": "NULL",
                                    "13": "NULL",
                                    "14": "F",
                                    "15": "FEMALE"
                                },
                                {
                                    "0": "03/15/2021",
                                    "1": "2021-03-15",
                                    "2": "UNKNOWN",
                                    "3": "NULL",
                                    "4": "NULL",
                                    "5": "NULL",
                                    "6": "UNKNOWN",
                                    "7": "NULL",
                                    "8": "UNKNOWN",
                                    "9": "NULL",
                                    "10": "PATROL BORO BRONX",
                                    "11": "BRONX",
                                    "12": "NULL",
                                    "13": "NULL",
                                    "14": "E",
                                    "15": "NULL"
                                },
                                {
                                    "0": "03/20/2021",
                                    "1": "2021-03-20",
                                    "2": "UNKNOWN",
                                    "3": "NULL",
                                    "4": "NULL",
                                    "5": "NULL",
                                    "6": "UNKNOWN",
                                    "7": "NULL",
                                    "8": "UNKNOWN",
                                    "9": "NULL",
                                    "10": "PATROL BORO BRONX",
                                    "11": "BRONX",
                                    "12": "NULL",
                                    "13": "NULL",
                                    "14": "E",
                                    "15": "NULL"
                                },
                                {
                                    "0": "03/19/2021",
                                    "1": "2021-03-19",
                                    "2": "25-44",
                                    "3": "25-44",
                                    "4": "UNKNOWN",
                                    "5": "NULL",
                                    "6": "25-44",
                                    "7": "25-44",
                                    "8": "WHITE",
                                    "9": "WHITE",
                                    "10": "PATROL BORO BRONX",
                                    "11": "BRONX",
                                    "12": "F",
                                    "13": "FEMALE",
                                    "14": "F",
                                    "15": "FEMALE"
                                },
                                {
                                    "0": "02/25/2021",
                                    "1": "2021-02-25",
                                    "2": "UNKNOWN",
                                    "3": "NULL",
                                    "4": "UNKNOWN",
                                    "5": "NULL",
                                    "6": "25-44",
                                    "7": "25-44",
                                    "8": "WHITE HISPANIC",
                                    "9": "WHITE HISPANIC",
                                    "10": "PATROL BORO MAN SOUTH",
                                    "11": "MAN SOUTH",
                                    "12": "U",
                                    "13": "NULL",
                                    "14": "F",
                                    "15": "FEMALE"
                                },
                                {
                                    "0": "03-09-21",
                                    "1": "2021-03-09",
                                    "2": "18-24",
                                    "3": "18-24",
                                    "4": "BLACK",
                                    "5": "BLACK",
                                    "6": "UNKNOWN",
                                    "7": "NULL",
                                    "8": "UNKNOWN",
                                    "9": "NULL",
                                    "10": "PATROL BORO MAN NORTH",
                                    "11": "MAN NORTH",
                                    "12": "M",
                                    "13": "MALE",
                                    "14": "E",
                                    "15": "NULL"
                                },
                                {
                                    "0": "03-03-21",
                                    "1": "2021-03-03",
                                    "2": "UNKNOWN",
                                    "3": "NULL",
                                    "4": "NULL",
                                    "5": "NULL",
                                    "6": "UNKNOWN",
                                    "7": "NULL",
                                    "8": "UNKNOWN",
                                    "9": "NULL",
                                    "10": "PATROL BORO MAN SOUTH",
                                    "11": "MAN SOUTH",
                                    "12": "NULL",
                                    "13": "NULL",
                                    "14": "D",
                                    "15": "ORGANIZATION"
                                },
                                {
                                    "0": "03-06-21",
                                    "1": "2021-03-06",
                                    "2": "UNKNOWN",
                                    "3": "NULL",
                                    "4": "NULL",
                                    "5": "NULL",
                                    "6": "UNKNOWN",
                                    "7": "NULL",
                                    "8": "UNKNOWN",
                                    "9": "NULL",
                                    "10": "PATROL BORO QUEENS SOUTH",
                                    "11": "QUEENS SOUTH",
                                    "12": "NULL",
                                    "13": "NULL",
                                    "14": "E",
                                    "15": "NULL"
                                },
                                {
                                    "0": "03-11-21",
                                    "1": "2021-03-11",
                                    "2": "UNKNOWN",
                                    "3": "NULL",
                                    "4": "BLACK",
                                    "5": "BLACK",
                                    "6": "18-24",
                                    "7": "18-24",
                                    "8": "WHITE HISPANIC",
                                    "9": "WHITE HISPANIC",
                                    "10": "PATROL BORO BRONX",
                                    "11": "BRONX",
                                    "12": "F",
                                    "13": "FEMALE",
                                    "14": "F",
                                    "15": "FEMALE"
                                },
                                {
                                    "0": "03-05-21",
                                    "1": "2021-03-05",
                                    "2": "UNKNOWN",
                                    "3": "NULL",
                                    "4": "NULL",
                                    "5": "NULL",
                                    "6": "25-44",
                                    "7": "25-44",
                                    "8": "BLACK",
                                    "9": "BLACK",
                                    "10": "NULL",
                                    "11": "NULL",
                                    "12": "NULL",
                                    "13": "NULL",
                                    "14": "M",
                                    "15": "MALE"
                                },
                                {
                                    "0": "02/22/2021",
                                    "1": "2021-02-22",
                                    "2": "UNKNOWN",
                                    "3": "NULL",
                                    "4": "NULL",
                                    "5": "NULL",
                                    "6": "25-44",
                                    "7": "25-44",
                                    "8": "BLACK",
                                    "9": "BLACK",
                                    "10": "NULL",
                                    "11": "NULL",
                                    "12": "NULL",
                                    "13": "NULL",
                                    "14": "M",
                                    "15": "MALE"
                                }
                            ]
                        },
                        "text/html": "<table><tr><th>CMPLNT_FR_DT_old</th><th>CMPLNT_FR_DT_new</th><th>SUSP_AGE_GROUP_old</th><th>SUSP_AGE_GROUP_new</th><th>SUSP_RACE_old</th><th>SUSP_RACE_new</th><th>VIC_AGE_GROUP_old</th><th>VIC_AGE_GROUP_new</th><th>VIC_RACE_old</th><th>VIC_RACE_new</th><th>PATROL_BORO_old</th><th>PATROL_BORO_new</th><th>SUSP_SEX_old</th><th>SUSP_SEX_new</th><th>VIC_SEX_old</th><th>VIC_SEX_new</th></tr><tr><td>03-07-21</td><td>2021-03-07</td><td>UNKNOWN</td><td>NULL</td><td>NULL</td><td>NULL</td><td>18-24</td><td>18-24</td><td>BLACK</td><td>BLACK</td><td>NULL</td><td>NULL</td><td>NULL</td><td>NULL</td><td>M</td><td>MALE</td></tr><tr><td>03/26/2021</td><td>2021-03-26</td><td>UNKNOWN</td><td>NULL</td><td>NULL</td><td>NULL</td><td>25-44</td><td>25-44</td><td>BLACK HISPANIC</td><td>BLACK HISPANIC</td><td>NULL</td><td>NULL</td><td>NULL</td><td>NULL</td><td>M</td><td>MALE</td></tr><tr><td>03/27/2021</td><td>2021-03-27</td><td>25-44</td><td>25-44</td><td>WHITE HISPANIC</td><td>WHITE HISPANIC</td><td>25-44</td><td>25-44</td><td>BLACK</td><td>BLACK</td><td>PATROL BORO BKLYN NORTH</td><td>BKLYN NORTH</td><td>M</td><td>MALE</td><td>F</td><td>FEMALE</td></tr><tr><td>03/28/2021</td><td>2021-03-28</td><td>UNKNOWN</td><td>NULL</td><td>NULL</td><td>NULL</td><td>UNKNOWN</td><td>NULL</td><td>UNKNOWN</td><td>NULL</td><td>PATROL BORO BKLYN NORTH</td><td>BKLYN NORTH</td><td>NULL</td><td>NULL</td><td>D</td><td>ORGANIZATION</td></tr><tr><td>03/29/2021</td><td>2021-03-29</td><td>UNKNOWN</td><td>NULL</td><td>NULL</td><td>NULL</td><td>25-44</td><td>25-44</td><td>WHITE HISPANIC</td><td>WHITE HISPANIC</td><td>NULL</td><td>NULL</td><td>NULL</td><td>NULL</td><td>M</td><td>MALE</td></tr><tr><td>03/24/2021</td><td>2021-03-24</td><td>UNKNOWN</td><td>NULL</td><td>NULL</td><td>NULL</td><td>45-64</td><td>45-64</td><td>BLACK</td><td>BLACK</td><td>PATROL BORO BKLYN NORTH</td><td>BKLYN NORTH</td><td>NULL</td><td>NULL</td><td>M</td><td>MALE</td></tr><tr><td>03/23/2021</td><td>2021-03-23</td><td>UNKNOWN</td><td>NULL</td><td>UNKNOWN</td><td>NULL</td><td>18-24</td><td>18-24</td><td>BLACK</td><td>BLACK</td><td>PATROL BORO QUEENS SOUTH</td><td>QUEENS SOUTH</td><td>U</td><td>NULL</td><td>F</td><td>FEMALE</td></tr><tr><td>03/13/2021</td><td>2021-03-13</td><td>UNKNOWN</td><td>NULL</td><td>NULL</td><td>NULL</td><td>18-24</td><td>18-24</td><td>BLACK</td><td>BLACK</td><td>NULL</td><td>NULL</td><td>NULL</td><td>NULL</td><td>M</td><td>MALE</td></tr><tr><td>03/15/2021</td><td>2021-03-15</td><td>UNKNOWN</td><td>NULL</td><td>NULL</td><td>NULL</td><td>25-44</td><td>25-44</td><td>BLACK</td><td>BLACK</td><td>PATROL BORO BRONX</td><td>BRONX</td><td>NULL</td><td>NULL</td><td>M</td><td>MALE</td></tr><tr><td>02/19/2021</td><td>2021-02-19</td><td>UNKNOWN</td><td>NULL</td><td>NULL</td><td>NULL</td><td>25-44</td><td>25-44</td><td>WHITE</td><td>WHITE</td><td>PATROL BORO QUEENS NORTH</td><td>QUEENS NORTH</td><td>NULL</td><td>NULL</td><td>F</td><td>FEMALE</td></tr><tr><td>03/15/2021</td><td>2021-03-15</td><td>UNKNOWN</td><td>NULL</td><td>NULL</td><td>NULL</td><td>UNKNOWN</td><td>NULL</td><td>UNKNOWN</td><td>NULL</td><td>PATROL BORO BRONX</td><td>BRONX</td><td>NULL</td><td>NULL</td><td>E</td><td>NULL</td></tr><tr><td>03/20/2021</td><td>2021-03-20</td><td>UNKNOWN</td><td>NULL</td><td>NULL</td><td>NULL</td><td>UNKNOWN</td><td>NULL</td><td>UNKNOWN</td><td>NULL</td><td>PATROL BORO BRONX</td><td>BRONX</td><td>NULL</td><td>NULL</td><td>E</td><td>NULL</td></tr><tr><td>03/19/2021</td><td>2021-03-19</td><td>25-44</td><td>25-44</td><td>UNKNOWN</td><td>NULL</td><td>25-44</td><td>25-44</td><td>WHITE</td><td>WHITE</td><td>PATROL BORO BRONX</td><td>BRONX</td><td>F</td><td>FEMALE</td><td>F</td><td>FEMALE</td></tr><tr><td>02/25/2021</td><td>2021-02-25</td><td>UNKNOWN</td><td>NULL</td><td>UNKNOWN</td><td>NULL</td><td>25-44</td><td>25-44</td><td>WHITE HISPANIC</td><td>WHITE HISPANIC</td><td>PATROL BORO MAN SOUTH</td><td>MAN SOUTH</td><td>U</td><td>NULL</td><td>F</td><td>FEMALE</td></tr><tr><td>03-09-21</td><td>2021-03-09</td><td>18-24</td><td>18-24</td><td>BLACK</td><td>BLACK</td><td>UNKNOWN</td><td>NULL</td><td>UNKNOWN</td><td>NULL</td><td>PATROL BORO MAN NORTH</td><td>MAN NORTH</td><td>M</td><td>MALE</td><td>E</td><td>NULL</td></tr><tr><td>03-03-21</td><td>2021-03-03</td><td>UNKNOWN</td><td>NULL</td><td>NULL</td><td>NULL</td><td>UNKNOWN</td><td>NULL</td><td>UNKNOWN</td><td>NULL</td><td>PATROL BORO MAN SOUTH</td><td>MAN SOUTH</td><td>NULL</td><td>NULL</td><td>D</td><td>ORGANIZATION</td></tr><tr><td>03-06-21</td><td>2021-03-06</td><td>UNKNOWN</td><td>NULL</td><td>NULL</td><td>NULL</td><td>UNKNOWN</td><td>NULL</td><td>UNKNOWN</td><td>NULL</td><td>PATROL BORO QUEENS SOUTH</td><td>QUEENS SOUTH</td><td>NULL</td><td>NULL</td><td>E</td><td>NULL</td></tr><tr><td>03-11-21</td><td>2021-03-11</td><td>UNKNOWN</td><td>NULL</td><td>BLACK</td><td>BLACK</td><td>18-24</td><td>18-24</td><td>WHITE HISPANIC</td><td>WHITE HISPANIC</td><td>PATROL BORO BRONX</td><td>BRONX</td><td>F</td><td>FEMALE</td><td>F</td><td>FEMALE</td></tr><tr><td>03-05-21</td><td>2021-03-05</td><td>UNKNOWN</td><td>NULL</td><td>NULL</td><td>NULL</td><td>25-44</td><td>25-44</td><td>BLACK</td><td>BLACK</td><td>NULL</td><td>NULL</td><td>NULL</td><td>NULL</td><td>M</td><td>MALE</td></tr><tr><td>02/22/2021</td><td>2021-02-22</td><td>UNKNOWN</td><td>NULL</td><td>NULL</td><td>NULL</td><td>25-44</td><td>25-44</td><td>BLACK</td><td>BLACK</td><td>NULL</td><td>NULL</td><td>NULL</td><td>NULL</td><td>M</td><td>MALE</td></tr></table>"
                    },
                    "metadata": {}
                }
            ],
            "execution_count": 3
        },
        {
            "cell_type": "markdown",
            "source": [
                "## **Clean data: `nypd_clean`** \n",
                "\n",
                "For purposes of this demonstration, we keep the original table untouched.  \n",
                "\n",
                "We instead create a clean version of the table, and call it `nypd_clean`."
            ],
            "metadata": {
                "azdata_cell_guid": "e57c79a7-e327-411c-b83c-7a49edab41bf"
            },
            "attachments": {}
        },
        {
            "cell_type": "code",
            "source": [
                "DROP TABLE IF EXISTS Project_4.dbo.npyd_clean\r\n",
                "Select * INTO Project_4.dbo.npyd_clean\r\n",
                "FROM Project_4.dbo.NYPD_Complaint_Data\r\n",
                "\r\n",
                "\r\n",
                "UPDATE Project_4.dbo.npyd_clean\r\n",
                "\r\n",
                "-- Messy data 1: fix date format\r\n",
                "SET \r\n",
                "    CMPLNT_FR_DT = CONVERT(DATE, CMPLNT_FR_DT),\r\n",
                "\r\n",
                "-- Messy data 2: UNKNOWN values should be NULL\r\n",
                "    SUSP_AGE_GROUP = CASE WHEN SUSP_AGE_GROUP = 'UNKNOWN' THEN NULL ELSE SUSP_AGE_GROUP END,\r\n",
                "    SUSP_RACE = CASE WHEN SUSP_RACE = 'UNKNOWN' THEN NULL ELSE SUSP_RACE END,\r\n",
                "    VIC_AGE_GROUP = CASE WHEN VIC_AGE_GROUP = 'UNKNOWN' THEN NULL ELSE VIC_AGE_GROUP END,\r\n",
                "    VIC_RACE = CASE WHEN VIC_RACE = 'UNKNOWN' THEN NULL ELSE VIC_RACE END,\r\n",
                "\r\n",
                "-- Messy data 3: Remove PATROL_BORO prefix\r\n",
                "    PATROL_BORO = \r\n",
                "        CASE \r\n",
                "            WHEN PATROL_BORO LIKE 'PATROL BORO %' THEN Replace(PATROL_BORO, 'PATROL BORO ', '')\r\n",
                "            ELSE PATROL_BORO \r\n",
                "        END,\r\n",
                "\r\n",
                "-- Messy data 4: Make VIC_SEX, SUSP_SEX values meaningful\r\n",
                "    SUSP_SEX = \r\n",
                "        CASE \r\n",
                "            WHEN SUSP_SEX = 'F' THEN 'FEMALE'\r\n",
                "            WHEN SUSP_SEX = 'M' THEN 'MALE'\r\n",
                "            WHEN SUSP_SEX = 'U' THEN NULL\r\n",
                "        END,\r\n",
                "    VIC_SEX = \r\n",
                "        CASE \r\n",
                "            WHEN VIC_SEX = 'D' THEN 'ORGANIZATION'\r\n",
                "            WHEN VIC_SEX = 'E' THEN  NULL\r\n",
                "            WHEN VIC_SEX = 'F' THEN 'FEMALE'\r\n",
                "            WHEN VIC_SEX = 'M' THEN 'MALE'\r\n",
                "            WHEN VIC_SEX = 'U' THEN NULL\r\n",
                "        END"
            ],
            "metadata": {
                "azdata_cell_guid": "ce2db09b-6bc0-4e21-85ad-6d2958e5ebcd",
                "tags": []
            },
            "outputs": [
                {
                    "output_type": "display_data",
                    "data": {
                        "text/html": "(196944 rows affected)"
                    },
                    "metadata": {}
                },
                {
                    "output_type": "display_data",
                    "data": {
                        "text/html": "(196944 rows affected)"
                    },
                    "metadata": {}
                },
                {
                    "output_type": "display_data",
                    "data": {
                        "text/html": "Total execution time: 00:00:01.712"
                    },
                    "metadata": {}
                }
            ],
            "execution_count": 4
        },
        {
            "cell_type": "markdown",
            "source": [
                "Now let's look at the top 20 rows again. The table appears clean."
            ],
            "metadata": {
                "azdata_cell_guid": "9faf785b-f080-40fe-8bdb-a9115099a254"
            },
            "attachments": {}
        },
        {
            "cell_type": "code",
            "source": [
                "SELECT TOP(20) *\r\n",
                "FROM Project_4.dbo.npyd_clean"
            ],
            "metadata": {
                "azdata_cell_guid": "c8610870-dc95-4333-927b-7c62cf65dcea",
                "tags": []
            },
            "outputs": [
                {
                    "output_type": "display_data",
                    "data": {
                        "text/html": "(20 rows affected)"
                    },
                    "metadata": {}
                },
                {
                    "output_type": "display_data",
                    "data": {
                        "text/html": "Total execution time: 00:00:00.004"
                    },
                    "metadata": {}
                },
                {
                    "output_type": "execute_result",
                    "execution_count": 5,
                    "data": {
                        "application/vnd.dataresource+json": {
                            "schema": {
                                "fields": [
                                    {
                                        "name": "CMPLNT_NUM"
                                    },
                                    {
                                        "name": "BORO_NM"
                                    },
                                    {
                                        "name": "CMPLNT_FR_DT"
                                    },
                                    {
                                        "name": "CMPLNT_FR_TM"
                                    },
                                    {
                                        "name": "LAW_CAT_CD"
                                    },
                                    {
                                        "name": "OFNS_DESC"
                                    },
                                    {
                                        "name": "PATROL_BORO"
                                    },
                                    {
                                        "name": "PD_DESC"
                                    },
                                    {
                                        "name": "PREM_TYP_DESC"
                                    },
                                    {
                                        "name": "SUSP_AGE_GROUP"
                                    },
                                    {
                                        "name": "SUSP_RACE"
                                    },
                                    {
                                        "name": "SUSP_SEX"
                                    },
                                    {
                                        "name": "VIC_AGE_GROUP"
                                    },
                                    {
                                        "name": "VIC_RACE"
                                    },
                                    {
                                        "name": "VIC_SEX"
                                    }
                                ]
                            },
                            "data": [
                                {
                                    "0": "758521794",
                                    "1": "NULL",
                                    "2": "2021-03-07",
                                    "3": "01:50:00",
                                    "4": "FELONY",
                                    "5": "MURDER & NON-NEGL. MANSLAUGHTER",
                                    "6": "NULL",
                                    "7": "NULL",
                                    "8": "NULL",
                                    "9": "NULL",
                                    "10": "NULL",
                                    "11": "NULL",
                                    "12": "18-24",
                                    "13": "BLACK",
                                    "14": "MALE"
                                },
                                {
                                    "0": "696896951",
                                    "1": "NULL",
                                    "2": "2021-03-26",
                                    "3": "18:40:00",
                                    "4": "FELONY",
                                    "5": "MURDER & NON-NEGL. MANSLAUGHTER",
                                    "6": "NULL",
                                    "7": "NULL",
                                    "8": "NULL",
                                    "9": "NULL",
                                    "10": "NULL",
                                    "11": "NULL",
                                    "12": "25-44",
                                    "13": "BLACK HISPANIC",
                                    "14": "MALE"
                                },
                                {
                                    "0": "972479923",
                                    "1": "BROOKLYN",
                                    "2": "2021-03-27",
                                    "3": "15:55:00",
                                    "4": "FELONY",
                                    "5": "FORGERY",
                                    "6": "BKLYN NORTH",
                                    "7": "FORGERY,ETC.,UNCLASSIFIED-FELO",
                                    "8": "DEPARTMENT STORE",
                                    "9": "25-44",
                                    "10": "WHITE HISPANIC",
                                    "11": "MALE",
                                    "12": "25-44",
                                    "13": "BLACK",
                                    "14": "FEMALE"
                                },
                                {
                                    "0": "109344500",
                                    "1": "BROOKLYN",
                                    "2": "2021-03-28",
                                    "3": "11:10:00",
                                    "4": "FELONY",
                                    "5": "GRAND LARCENY",
                                    "6": "BKLYN NORTH",
                                    "7": "LARCENY,GRAND OF VEHICULAR/MOTORCYCLE ACCESSORIES",
                                    "8": "STREET",
                                    "9": "NULL",
                                    "10": "NULL",
                                    "11": "NULL",
                                    "12": "NULL",
                                    "13": "NULL",
                                    "14": "ORGANIZATION"
                                },
                                {
                                    "0": "673945415",
                                    "1": "NULL",
                                    "2": "2021-03-29",
                                    "3": "23:13:00",
                                    "4": "FELONY",
                                    "5": "MURDER & NON-NEGL. MANSLAUGHTER",
                                    "6": "NULL",
                                    "7": "NULL",
                                    "8": "NULL",
                                    "9": "NULL",
                                    "10": "NULL",
                                    "11": "NULL",
                                    "12": "25-44",
                                    "13": "WHITE HISPANIC",
                                    "14": "MALE"
                                },
                                {
                                    "0": "239448064",
                                    "1": "BROOKLYN",
                                    "2": "2021-03-24",
                                    "3": "06:16:00",
                                    "4": "FELONY",
                                    "5": "FELONY ASSAULT",
                                    "6": "BKLYN NORTH",
                                    "7": "ASSAULT 2,1,UNCLASSIFIED",
                                    "8": "GROCERY/BODEGA",
                                    "9": "NULL",
                                    "10": "NULL",
                                    "11": "NULL",
                                    "12": "45-64",
                                    "13": "BLACK",
                                    "14": "MALE"
                                },
                                {
                                    "0": "186160435",
                                    "1": "QUEENS",
                                    "2": "2021-03-23",
                                    "3": "22:30:00",
                                    "4": "FELONY",
                                    "5": "GRAND LARCENY",
                                    "6": "QUEENS SOUTH",
                                    "7": "LARCENY,GRAND FROM VEHICLE/MOTORCYCLE",
                                    "8": "STREET",
                                    "9": "NULL",
                                    "10": "NULL",
                                    "11": "NULL",
                                    "12": "18-24",
                                    "13": "BLACK",
                                    "14": "FEMALE"
                                },
                                {
                                    "0": "504820958",
                                    "1": "NULL",
                                    "2": "2021-03-13",
                                    "3": "00:56:00",
                                    "4": "FELONY",
                                    "5": "MURDER & NON-NEGL. MANSLAUGHTER",
                                    "6": "NULL",
                                    "7": "NULL",
                                    "8": "NULL",
                                    "9": "NULL",
                                    "10": "NULL",
                                    "11": "NULL",
                                    "12": "18-24",
                                    "13": "BLACK",
                                    "14": "MALE"
                                },
                                {
                                    "0": "930217059",
                                    "1": "BRONX",
                                    "2": "2021-03-15",
                                    "3": "11:00:00",
                                    "4": "MISDEMEANOR",
                                    "5": "PETIT LARCENY",
                                    "6": "BRONX",
                                    "7": "LARCENY,PETIT OF VEHICLE ACCES",
                                    "8": "STREET",
                                    "9": "NULL",
                                    "10": "NULL",
                                    "11": "NULL",
                                    "12": "25-44",
                                    "13": "BLACK",
                                    "14": "MALE"
                                },
                                {
                                    "0": "156303096",
                                    "1": "QUEENS",
                                    "2": "2021-02-19",
                                    "3": "16:00:00",
                                    "4": "FELONY",
                                    "5": "THEFT-FRAUD",
                                    "6": "QUEENS NORTH",
                                    "7": "FRAUD,UNCLASSIFIED-FELONY",
                                    "8": "RESIDENCE-HOUSE",
                                    "9": "NULL",
                                    "10": "NULL",
                                    "11": "NULL",
                                    "12": "25-44",
                                    "13": "WHITE",
                                    "14": "FEMALE"
                                },
                                {
                                    "0": "194865463",
                                    "1": "BRONX",
                                    "2": "2021-03-15",
                                    "3": "15:57:00",
                                    "4": "FELONY",
                                    "5": "DANGEROUS WEAPONS",
                                    "6": "BRONX",
                                    "7": "WEAPONS POSSESSION 3",
                                    "8": "CANDY STORE",
                                    "9": "NULL",
                                    "10": "NULL",
                                    "11": "NULL",
                                    "12": "NULL",
                                    "13": "NULL",
                                    "14": "NULL"
                                },
                                {
                                    "0": "479068420",
                                    "1": "BRONX",
                                    "2": "2021-03-20",
                                    "3": "20:45:00",
                                    "4": "FELONY",
                                    "5": "DANGEROUS WEAPONS",
                                    "6": "BRONX",
                                    "7": "WEAPONS POSSESSION 1 & 2",
                                    "8": "STREET",
                                    "9": "NULL",
                                    "10": "NULL",
                                    "11": "NULL",
                                    "12": "NULL",
                                    "13": "NULL",
                                    "14": "NULL"
                                },
                                {
                                    "0": "480312125",
                                    "1": "BRONX",
                                    "2": "2021-03-19",
                                    "3": "22:15:00",
                                    "4": "VIOLATION",
                                    "5": "HARRASSMENT 2",
                                    "6": "BRONX",
                                    "7": "HARASSMENT,SUBD 3,4,5",
                                    "8": "STREET",
                                    "9": "25-44",
                                    "10": "NULL",
                                    "11": "FEMALE",
                                    "12": "25-44",
                                    "13": "WHITE",
                                    "14": "FEMALE"
                                },
                                {
                                    "0": "957810616",
                                    "1": "MANHATTAN",
                                    "2": "2021-02-25",
                                    "3": "18:15:00",
                                    "4": "VIOLATION",
                                    "5": "HARRASSMENT 2",
                                    "6": "MAN SOUTH",
                                    "7": "HARASSMENT,SUBD 3,4,5",
                                    "8": "NULL",
                                    "9": "NULL",
                                    "10": "NULL",
                                    "11": "NULL",
                                    "12": "25-44",
                                    "13": "WHITE HISPANIC",
                                    "14": "FEMALE"
                                },
                                {
                                    "0": "738990323",
                                    "1": "MANHATTAN",
                                    "2": "2021-03-09",
                                    "3": "19:45:00",
                                    "4": "MISDEMEANOR",
                                    "5": "DANGEROUS WEAPONS",
                                    "6": "MAN NORTH",
                                    "7": "WEAPONS, POSSESSION, ETC",
                                    "8": "STREET",
                                    "9": "18-24",
                                    "10": "BLACK",
                                    "11": "MALE",
                                    "12": "NULL",
                                    "13": "NULL",
                                    "14": "NULL"
                                },
                                {
                                    "0": "126186881",
                                    "1": "MANHATTAN",
                                    "2": "2021-03-03",
                                    "3": "16:17:00",
                                    "4": "FELONY",
                                    "5": "BURGLARY",
                                    "6": "MAN SOUTH",
                                    "7": "BURGLARY,COMMERCIAL,DAY",
                                    "8": "DEPARTMENT STORE",
                                    "9": "NULL",
                                    "10": "NULL",
                                    "11": "NULL",
                                    "12": "NULL",
                                    "13": "NULL",
                                    "14": "ORGANIZATION"
                                },
                                {
                                    "0": "216776563",
                                    "1": "QUEENS",
                                    "2": "2021-03-06",
                                    "3": "20:00:00",
                                    "4": "FELONY",
                                    "5": "DANGEROUS WEAPONS",
                                    "6": "QUEENS SOUTH",
                                    "7": "WEAPONS POSSESSION 3",
                                    "8": "STREET",
                                    "9": "NULL",
                                    "10": "NULL",
                                    "11": "NULL",
                                    "12": "NULL",
                                    "13": "NULL",
                                    "14": "NULL"
                                },
                                {
                                    "0": "316569357",
                                    "1": "BRONX",
                                    "2": "2021-03-11",
                                    "3": "18:10:00",
                                    "4": "VIOLATION",
                                    "5": "HARRASSMENT 2",
                                    "6": "BRONX",
                                    "7": "HARASSMENT,SUBD 3,4,5",
                                    "8": "GROCERY/BODEGA",
                                    "9": "NULL",
                                    "10": "BLACK",
                                    "11": "FEMALE",
                                    "12": "18-24",
                                    "13": "WHITE HISPANIC",
                                    "14": "FEMALE"
                                },
                                {
                                    "0": "142275129",
                                    "1": "NULL",
                                    "2": "2021-03-05",
                                    "3": "17:15:00",
                                    "4": "FELONY",
                                    "5": "MURDER & NON-NEGL. MANSLAUGHTER",
                                    "6": "NULL",
                                    "7": "NULL",
                                    "8": "NULL",
                                    "9": "NULL",
                                    "10": "NULL",
                                    "11": "NULL",
                                    "12": "25-44",
                                    "13": "BLACK",
                                    "14": "MALE"
                                },
                                {
                                    "0": "972721133",
                                    "1": "NULL",
                                    "2": "2021-02-22",
                                    "3": "22:58:00",
                                    "4": "FELONY",
                                    "5": "MURDER & NON-NEGL. MANSLAUGHTER",
                                    "6": "NULL",
                                    "7": "NULL",
                                    "8": "NULL",
                                    "9": "NULL",
                                    "10": "NULL",
                                    "11": "NULL",
                                    "12": "25-44",
                                    "13": "BLACK",
                                    "14": "MALE"
                                }
                            ]
                        },
                        "text/html": "<table><tr><th>CMPLNT_NUM</th><th>BORO_NM</th><th>CMPLNT_FR_DT</th><th>CMPLNT_FR_TM</th><th>LAW_CAT_CD</th><th>OFNS_DESC</th><th>PATROL_BORO</th><th>PD_DESC</th><th>PREM_TYP_DESC</th><th>SUSP_AGE_GROUP</th><th>SUSP_RACE</th><th>SUSP_SEX</th><th>VIC_AGE_GROUP</th><th>VIC_RACE</th><th>VIC_SEX</th></tr><tr><td>758521794</td><td>NULL</td><td>2021-03-07</td><td>01:50:00</td><td>FELONY</td><td>MURDER &amp; NON-NEGL. MANSLAUGHTER</td><td>NULL</td><td>NULL</td><td>NULL</td><td>NULL</td><td>NULL</td><td>NULL</td><td>18-24</td><td>BLACK</td><td>MALE</td></tr><tr><td>696896951</td><td>NULL</td><td>2021-03-26</td><td>18:40:00</td><td>FELONY</td><td>MURDER &amp; NON-NEGL. MANSLAUGHTER</td><td>NULL</td><td>NULL</td><td>NULL</td><td>NULL</td><td>NULL</td><td>NULL</td><td>25-44</td><td>BLACK HISPANIC</td><td>MALE</td></tr><tr><td>972479923</td><td>BROOKLYN</td><td>2021-03-27</td><td>15:55:00</td><td>FELONY</td><td>FORGERY</td><td>BKLYN NORTH</td><td>FORGERY,ETC.,UNCLASSIFIED-FELO</td><td>DEPARTMENT STORE</td><td>25-44</td><td>WHITE HISPANIC</td><td>MALE</td><td>25-44</td><td>BLACK</td><td>FEMALE</td></tr><tr><td>109344500</td><td>BROOKLYN</td><td>2021-03-28</td><td>11:10:00</td><td>FELONY</td><td>GRAND LARCENY</td><td>BKLYN NORTH</td><td>LARCENY,GRAND OF VEHICULAR/MOTORCYCLE ACCESSORIES</td><td>STREET</td><td>NULL</td><td>NULL</td><td>NULL</td><td>NULL</td><td>NULL</td><td>ORGANIZATION</td></tr><tr><td>673945415</td><td>NULL</td><td>2021-03-29</td><td>23:13:00</td><td>FELONY</td><td>MURDER &amp; NON-NEGL. MANSLAUGHTER</td><td>NULL</td><td>NULL</td><td>NULL</td><td>NULL</td><td>NULL</td><td>NULL</td><td>25-44</td><td>WHITE HISPANIC</td><td>MALE</td></tr><tr><td>239448064</td><td>BROOKLYN</td><td>2021-03-24</td><td>06:16:00</td><td>FELONY</td><td>FELONY ASSAULT</td><td>BKLYN NORTH</td><td>ASSAULT 2,1,UNCLASSIFIED</td><td>GROCERY/BODEGA</td><td>NULL</td><td>NULL</td><td>NULL</td><td>45-64</td><td>BLACK</td><td>MALE</td></tr><tr><td>186160435</td><td>QUEENS</td><td>2021-03-23</td><td>22:30:00</td><td>FELONY</td><td>GRAND LARCENY</td><td>QUEENS SOUTH</td><td>LARCENY,GRAND FROM VEHICLE/MOTORCYCLE</td><td>STREET</td><td>NULL</td><td>NULL</td><td>NULL</td><td>18-24</td><td>BLACK</td><td>FEMALE</td></tr><tr><td>504820958</td><td>NULL</td><td>2021-03-13</td><td>00:56:00</td><td>FELONY</td><td>MURDER &amp; NON-NEGL. MANSLAUGHTER</td><td>NULL</td><td>NULL</td><td>NULL</td><td>NULL</td><td>NULL</td><td>NULL</td><td>18-24</td><td>BLACK</td><td>MALE</td></tr><tr><td>930217059</td><td>BRONX</td><td>2021-03-15</td><td>11:00:00</td><td>MISDEMEANOR</td><td>PETIT LARCENY</td><td>BRONX</td><td>LARCENY,PETIT OF VEHICLE ACCES</td><td>STREET</td><td>NULL</td><td>NULL</td><td>NULL</td><td>25-44</td><td>BLACK</td><td>MALE</td></tr><tr><td>156303096</td><td>QUEENS</td><td>2021-02-19</td><td>16:00:00</td><td>FELONY</td><td>THEFT-FRAUD</td><td>QUEENS NORTH</td><td>FRAUD,UNCLASSIFIED-FELONY</td><td>RESIDENCE-HOUSE</td><td>NULL</td><td>NULL</td><td>NULL</td><td>25-44</td><td>WHITE</td><td>FEMALE</td></tr><tr><td>194865463</td><td>BRONX</td><td>2021-03-15</td><td>15:57:00</td><td>FELONY</td><td>DANGEROUS WEAPONS</td><td>BRONX</td><td>WEAPONS POSSESSION 3</td><td>CANDY STORE</td><td>NULL</td><td>NULL</td><td>NULL</td><td>NULL</td><td>NULL</td><td>NULL</td></tr><tr><td>479068420</td><td>BRONX</td><td>2021-03-20</td><td>20:45:00</td><td>FELONY</td><td>DANGEROUS WEAPONS</td><td>BRONX</td><td>WEAPONS POSSESSION 1 &amp; 2</td><td>STREET</td><td>NULL</td><td>NULL</td><td>NULL</td><td>NULL</td><td>NULL</td><td>NULL</td></tr><tr><td>480312125</td><td>BRONX</td><td>2021-03-19</td><td>22:15:00</td><td>VIOLATION</td><td>HARRASSMENT 2</td><td>BRONX</td><td>HARASSMENT,SUBD 3,4,5</td><td>STREET</td><td>25-44</td><td>NULL</td><td>FEMALE</td><td>25-44</td><td>WHITE</td><td>FEMALE</td></tr><tr><td>957810616</td><td>MANHATTAN</td><td>2021-02-25</td><td>18:15:00</td><td>VIOLATION</td><td>HARRASSMENT 2</td><td>MAN SOUTH</td><td>HARASSMENT,SUBD 3,4,5</td><td>NULL</td><td>NULL</td><td>NULL</td><td>NULL</td><td>25-44</td><td>WHITE HISPANIC</td><td>FEMALE</td></tr><tr><td>738990323</td><td>MANHATTAN</td><td>2021-03-09</td><td>19:45:00</td><td>MISDEMEANOR</td><td>DANGEROUS WEAPONS</td><td>MAN NORTH</td><td>WEAPONS, POSSESSION, ETC</td><td>STREET</td><td>18-24</td><td>BLACK</td><td>MALE</td><td>NULL</td><td>NULL</td><td>NULL</td></tr><tr><td>126186881</td><td>MANHATTAN</td><td>2021-03-03</td><td>16:17:00</td><td>FELONY</td><td>BURGLARY</td><td>MAN SOUTH</td><td>BURGLARY,COMMERCIAL,DAY</td><td>DEPARTMENT STORE</td><td>NULL</td><td>NULL</td><td>NULL</td><td>NULL</td><td>NULL</td><td>ORGANIZATION</td></tr><tr><td>216776563</td><td>QUEENS</td><td>2021-03-06</td><td>20:00:00</td><td>FELONY</td><td>DANGEROUS WEAPONS</td><td>QUEENS SOUTH</td><td>WEAPONS POSSESSION 3</td><td>STREET</td><td>NULL</td><td>NULL</td><td>NULL</td><td>NULL</td><td>NULL</td><td>NULL</td></tr><tr><td>316569357</td><td>BRONX</td><td>2021-03-11</td><td>18:10:00</td><td>VIOLATION</td><td>HARRASSMENT 2</td><td>BRONX</td><td>HARASSMENT,SUBD 3,4,5</td><td>GROCERY/BODEGA</td><td>NULL</td><td>BLACK</td><td>FEMALE</td><td>18-24</td><td>WHITE HISPANIC</td><td>FEMALE</td></tr><tr><td>142275129</td><td>NULL</td><td>2021-03-05</td><td>17:15:00</td><td>FELONY</td><td>MURDER &amp; NON-NEGL. MANSLAUGHTER</td><td>NULL</td><td>NULL</td><td>NULL</td><td>NULL</td><td>NULL</td><td>NULL</td><td>25-44</td><td>BLACK</td><td>MALE</td></tr><tr><td>972721133</td><td>NULL</td><td>2021-02-22</td><td>22:58:00</td><td>FELONY</td><td>MURDER &amp; NON-NEGL. MANSLAUGHTER</td><td>NULL</td><td>NULL</td><td>NULL</td><td>NULL</td><td>NULL</td><td>NULL</td><td>25-44</td><td>BLACK</td><td>MALE</td></tr></table>"
                    },
                    "metadata": {}
                }
            ],
            "execution_count": 5
        },
        {
            "cell_type": "markdown",
            "source": [
                "## **Data exploration**\n",
                "\n",
                "Having cleaned our data, we perform some exploration on it.\n",
                "\n",
                "|  |  |  |\n",
                "| --- | --- | --- |\n",
                "| **#** | **Analysis description** | **Purpose** |\n",
                "| 1 | Overall patrol borough breakdown | Aid resource management of NYPD (team-wise) |\n",
                "| 2 | Level of offense across boroughs | Aid resource management of NYPD (location-wise) |\n",
                "| 3 | Complaints across hours | Aid resource management of NYPD (time-wise) |\n",
                "| 4 | Complaints across months | Aid resource management of NYPD (time-wise) |\n",
                "| 5 | Overall victim race and age group breakdown | Investigate vulnerable demographics |\n",
                "| 6 | Top offense types across common premises | Investigate vulnerable premises and offense types among them |\n",
                "| 7 | Victim-suspect correlations | Investigate cause-effect/vulnerable-exploitative demographic relationships<br> |\n",
                "| 8 | Top 5 offense types among each suspect age group | Design preventive measures (eg education, penalties) specific to age |"
            ],
            "metadata": {
                "azdata_cell_guid": "5e472360-27ba-4f8f-83a7-1f1d77e90bfe"
            },
            "attachments": {}
        },
        {
            "cell_type": "code",
            "source": [
                "-- Analysis 1: Overall patrol borough breakdown\r\n",
                "\r\n",
                "SELECT\r\n",
                "    PATROL_BORO,\r\n",
                "    CAST(ROUND(COUNT(*) * 100.0 / (SELECT COUNT(*) FROM Project_4.dbo.npyd_clean WHERE PATROL_BORO IS NOT NULL), 2) AS DECIMAL(10,2))\r\n",
                "        AS Incident_Percentage\r\n",
                "FROM Project_4.dbo.npyd_clean\r\n",
                "WHERE PATROL_BORO IS NOT NULL\r\n",
                "GROUP BY PATROL_BORO\r\n",
                "ORDER BY Incident_Percentage DESC"
            ],
            "metadata": {
                "azdata_cell_guid": "b3cff0eb-abde-451a-91a9-a62442f31b93",
                "tags": []
            },
            "outputs": [
                {
                    "output_type": "display_data",
                    "data": {
                        "text/html": "(8 rows affected)"
                    },
                    "metadata": {}
                },
                {
                    "output_type": "display_data",
                    "data": {
                        "text/html": "Total execution time: 00:00:00.175"
                    },
                    "metadata": {}
                },
                {
                    "output_type": "execute_result",
                    "execution_count": 6,
                    "data": {
                        "application/vnd.dataresource+json": {
                            "schema": {
                                "fields": [
                                    {
                                        "name": "PATROL_BORO"
                                    },
                                    {
                                        "name": "Incident_Percentage"
                                    }
                                ]
                            },
                            "data": [
                                {
                                    "0": "BRONX",
                                    "1": "21.07"
                                },
                                {
                                    "0": "BKLYN SOUTH",
                                    "1": "14.41"
                                },
                                {
                                    "0": "BKLYN NORTH",
                                    "1": "14.10"
                                },
                                {
                                    "0": "MAN NORTH",
                                    "1": "12.66"
                                },
                                {
                                    "0": "MAN SOUTH",
                                    "1": "11.75"
                                },
                                {
                                    "0": "QUEENS NORTH",
                                    "1": "11.57"
                                },
                                {
                                    "0": "QUEENS SOUTH",
                                    "1": "10.08"
                                },
                                {
                                    "0": "STATEN ISLAND",
                                    "1": "4.36"
                                }
                            ]
                        },
                        "text/html": "<table><tr><th>PATROL_BORO</th><th>Incident_Percentage</th></tr><tr><td>BRONX</td><td>21.07</td></tr><tr><td>BKLYN SOUTH</td><td>14.41</td></tr><tr><td>BKLYN NORTH</td><td>14.10</td></tr><tr><td>MAN NORTH</td><td>12.66</td></tr><tr><td>MAN SOUTH</td><td>11.75</td></tr><tr><td>QUEENS NORTH</td><td>11.57</td></tr><tr><td>QUEENS SOUTH</td><td>10.08</td></tr><tr><td>STATEN ISLAND</td><td>4.36</td></tr></table>"
                    },
                    "metadata": {}
                }
            ],
            "execution_count": 6
        },
        {
            "cell_type": "code",
            "source": [
                "-- Analysis 2: Level of offense across boroughs\r\n",
                "\r\n",
                "SELECT\r\n",
                "    BORO_NM,\r\n",
                "    COUNT(CASE WHEN LAW_CAT_CD = 'VIOLATION' THEN 1 END) AS VIOLATION,\r\n",
                "    COUNT(CASE WHEN LAW_CAT_CD = 'MISDEMEANOR' THEN 1 END) AS MISDEMEANOR,\r\n",
                "    COUNT(CASE WHEN LAW_CAT_CD = 'FELONY' THEN 1 END) AS FELONY\r\n",
                "FROM Project_4.dbo.npyd_clean\r\n",
                "WHERE BORO_NM IS NOT NULL\r\n",
                "GROUP BY BORO_NM\r\n",
                "ORDER BY BORO_NM"
            ],
            "metadata": {
                "azdata_cell_guid": "8ad95da3-9326-4ebb-a12b-4fbbfd9047b0"
            },
            "outputs": [
                {
                    "output_type": "display_data",
                    "data": {
                        "text/html": "Warning: Null value is eliminated by an aggregate or other SET operation."
                    },
                    "metadata": {}
                },
                {
                    "output_type": "display_data",
                    "data": {
                        "text/html": "(5 rows affected)"
                    },
                    "metadata": {}
                },
                {
                    "output_type": "display_data",
                    "data": {
                        "text/html": "Total execution time: 00:00:00.199"
                    },
                    "metadata": {}
                },
                {
                    "output_type": "execute_result",
                    "execution_count": 7,
                    "data": {
                        "application/vnd.dataresource+json": {
                            "schema": {
                                "fields": [
                                    {
                                        "name": "BORO_NM"
                                    },
                                    {
                                        "name": "VIOLATION"
                                    },
                                    {
                                        "name": "MISDEMEANOR"
                                    },
                                    {
                                        "name": "FELONY"
                                    }
                                ]
                            },
                            "data": [
                                {
                                    "0": "BRONX",
                                    "1": "7524",
                                    "2": "20763",
                                    "3": "13163"
                                },
                                {
                                    "0": "BROOKLYN",
                                    "1": "10034",
                                    "2": "27628",
                                    "3": "18437"
                                },
                                {
                                    "0": "MANHATTAN",
                                    "1": "6850",
                                    "2": "26129",
                                    "3": "14899"
                                },
                                {
                                    "0": "QUEENS",
                                    "1": "7612",
                                    "2": "21985",
                                    "3": "12979"
                                },
                                {
                                    "0": "STATEN ISLAND",
                                    "1": "1914",
                                    "2": "4349",
                                    "3": "2306"
                                }
                            ]
                        },
                        "text/html": "<table><tr><th>BORO_NM</th><th>VIOLATION</th><th>MISDEMEANOR</th><th>FELONY</th></tr><tr><td>BRONX</td><td>7524</td><td>20763</td><td>13163</td></tr><tr><td>BROOKLYN</td><td>10034</td><td>27628</td><td>18437</td></tr><tr><td>MANHATTAN</td><td>6850</td><td>26129</td><td>14899</td></tr><tr><td>QUEENS</td><td>7612</td><td>21985</td><td>12979</td></tr><tr><td>STATEN ISLAND</td><td>1914</td><td>4349</td><td>2306</td></tr></table>"
                    },
                    "metadata": {}
                }
            ],
            "execution_count": 7
        },
        {
            "cell_type": "code",
            "source": [
                "-- Analysis 3: Complaints across hours\r\n",
                "\r\n",
                "SELECT\r\n",
                "    DATEPART(HOUR,CMPLNT_FR_TM) AS HOUR,\r\n",
                "    COUNT(*) AS Counts\r\n",
                "FROM Project_4.dbo.npyd_clean\r\n",
                "WHERE CMPLNT_FR_TM IS NOT NULL\r\n",
                "GROUP BY DATEPART(HOUR,CMPLNT_FR_TM)\r\n",
                "ORDER BY HOUR"
            ],
            "metadata": {
                "azdata_cell_guid": "c5c32cc6-f12b-448f-9cf5-1c4278893db9"
            },
            "outputs": [
                {
                    "output_type": "display_data",
                    "data": {
                        "text/html": "(24 rows affected)"
                    },
                    "metadata": {}
                },
                {
                    "output_type": "display_data",
                    "data": {
                        "text/html": "Total execution time: 00:00:00.122"
                    },
                    "metadata": {}
                },
                {
                    "output_type": "execute_result",
                    "execution_count": 8,
                    "data": {
                        "application/vnd.dataresource+json": {
                            "schema": {
                                "fields": [
                                    {
                                        "name": "HOUR"
                                    },
                                    {
                                        "name": "Counts"
                                    }
                                ]
                            },
                            "data": [
                                {
                                    "0": "0",
                                    "1": "8520"
                                },
                                {
                                    "0": "1",
                                    "1": "5881"
                                },
                                {
                                    "0": "2",
                                    "1": "4663"
                                },
                                {
                                    "0": "3",
                                    "1": "3933"
                                },
                                {
                                    "0": "4",
                                    "1": "3245"
                                },
                                {
                                    "0": "5",
                                    "1": "2919"
                                },
                                {
                                    "0": "6",
                                    "1": "3123"
                                },
                                {
                                    "0": "7",
                                    "1": "4177"
                                },
                                {
                                    "0": "8",
                                    "1": "6466"
                                },
                                {
                                    "0": "9",
                                    "1": "7654"
                                },
                                {
                                    "0": "10",
                                    "1": "8528"
                                },
                                {
                                    "0": "11",
                                    "1": "8937"
                                },
                                {
                                    "0": "12",
                                    "1": "11487"
                                },
                                {
                                    "0": "13",
                                    "1": "10157"
                                },
                                {
                                    "0": "14",
                                    "1": "10808"
                                },
                                {
                                    "0": "15",
                                    "1": "11786"
                                },
                                {
                                    "0": "16",
                                    "1": "12076"
                                },
                                {
                                    "0": "17",
                                    "1": "12113"
                                },
                                {
                                    "0": "18",
                                    "1": "12085"
                                },
                                {
                                    "0": "19",
                                    "1": "11213"
                                },
                                {
                                    "0": "20",
                                    "1": "10911"
                                },
                                {
                                    "0": "21",
                                    "1": "9718"
                                },
                                {
                                    "0": "22",
                                    "1": "8763"
                                },
                                {
                                    "0": "23",
                                    "1": "7781"
                                }
                            ]
                        },
                        "text/html": "<table><tr><th>HOUR</th><th>Counts</th></tr><tr><td>0</td><td>8520</td></tr><tr><td>1</td><td>5881</td></tr><tr><td>2</td><td>4663</td></tr><tr><td>3</td><td>3933</td></tr><tr><td>4</td><td>3245</td></tr><tr><td>5</td><td>2919</td></tr><tr><td>6</td><td>3123</td></tr><tr><td>7</td><td>4177</td></tr><tr><td>8</td><td>6466</td></tr><tr><td>9</td><td>7654</td></tr><tr><td>10</td><td>8528</td></tr><tr><td>11</td><td>8937</td></tr><tr><td>12</td><td>11487</td></tr><tr><td>13</td><td>10157</td></tr><tr><td>14</td><td>10808</td></tr><tr><td>15</td><td>11786</td></tr><tr><td>16</td><td>12076</td></tr><tr><td>17</td><td>12113</td></tr><tr><td>18</td><td>12085</td></tr><tr><td>19</td><td>11213</td></tr><tr><td>20</td><td>10911</td></tr><tr><td>21</td><td>9718</td></tr><tr><td>22</td><td>8763</td></tr><tr><td>23</td><td>7781</td></tr></table>"
                    },
                    "metadata": {}
                }
            ],
            "execution_count": 8
        },
        {
            "cell_type": "code",
            "source": [
                "-- Analysis 4: Complaints across months\r\n",
                "\r\n",
                "SELECT\r\n",
                "    DATEPART(month, CMPLNT_FR_DT) AS [month],\r\n",
                "    COUNT(*) AS Incident_Count,\r\n",
                "    COUNT(*) - LAG(COUNT(*), 1) OVER (ORDER BY DATEPART(month, CMPLNT_FR_DT)) \r\n",
                "        AS Change_WR_Prev_Month\r\n",
                "FROM Project_4.dbo.npyd_clean\r\n",
                "WHERE CMPLNT_FR_DT IS NOT NULL\r\n",
                "GROUP BY DATEPART(month, CMPLNT_FR_DT)\r\n",
                "ORDER BY [month]"
            ],
            "metadata": {
                "azdata_cell_guid": "fa9f9238-d994-4e70-b443-1ce5ef6087cc"
            },
            "outputs": [
                {
                    "output_type": "display_data",
                    "data": {
                        "text/html": "(6 rows affected)"
                    },
                    "metadata": {}
                },
                {
                    "output_type": "display_data",
                    "data": {
                        "text/html": "Total execution time: 00:00:00.175"
                    },
                    "metadata": {}
                },
                {
                    "output_type": "execute_result",
                    "execution_count": 9,
                    "data": {
                        "application/vnd.dataresource+json": {
                            "schema": {
                                "fields": [
                                    {
                                        "name": "month"
                                    },
                                    {
                                        "name": "Incident_Count"
                                    },
                                    {
                                        "name": "Change_WR_Prev_Month"
                                    }
                                ]
                            },
                            "data": [
                                {
                                    "0": "1",
                                    "1": "32553",
                                    "2": "NULL"
                                },
                                {
                                    "0": "2",
                                    "1": "27979",
                                    "2": "-4574"
                                },
                                {
                                    "0": "3",
                                    "1": "34051",
                                    "2": "6072"
                                },
                                {
                                    "0": "4",
                                    "1": "32076",
                                    "2": "-1975"
                                },
                                {
                                    "0": "5",
                                    "1": "35734",
                                    "2": "3658"
                                },
                                {
                                    "0": "6",
                                    "1": "34551",
                                    "2": "-1183"
                                }
                            ]
                        },
                        "text/html": "<table><tr><th>month</th><th>Incident_Count</th><th>Change_WR_Prev_Month</th></tr><tr><td>1</td><td>32553</td><td>NULL</td></tr><tr><td>2</td><td>27979</td><td>-4574</td></tr><tr><td>3</td><td>34051</td><td>6072</td></tr><tr><td>4</td><td>32076</td><td>-1975</td></tr><tr><td>5</td><td>35734</td><td>3658</td></tr><tr><td>6</td><td>34551</td><td>-1183</td></tr></table>"
                    },
                    "metadata": {}
                }
            ],
            "execution_count": 9
        },
        {
            "cell_type": "code",
            "source": [
                "-- Analysis 5: Overall victim race and age group breakdown\r\n",
                "\r\n",
                "SELECT\r\n",
                "    VIC_RACE,\r\n",
                "    VIC_AGE_GROUP,\r\n",
                "    COUNT(*) AS Counts\r\n",
                "FROM Project_4.dbo.npyd_clean\r\n",
                "WHERE VIC_RACE IS NOT NULL OR VIC_AGE_GROUP IS NOT NULL\r\n",
                "GROUP BY VIC_RACE, VIC_AGE_GROUP\r\n",
                "ORDER BY Counts DESC"
            ],
            "metadata": {
                "azdata_cell_guid": "486d4ad2-b2e0-43b5-aaa4-0270965a96a2"
            },
            "outputs": [
                {
                    "output_type": "display_data",
                    "data": {
                        "text/html": "(41 rows affected)"
                    },
                    "metadata": {}
                },
                {
                    "output_type": "display_data",
                    "data": {
                        "text/html": "Total execution time: 00:00:00.113"
                    },
                    "metadata": {}
                },
                {
                    "output_type": "execute_result",
                    "execution_count": 17,
                    "data": {
                        "application/vnd.dataresource+json": {
                            "schema": {
                                "fields": [
                                    {
                                        "name": "VIC_RACE"
                                    },
                                    {
                                        "name": "VIC_AGE_GROUP"
                                    },
                                    {
                                        "name": "Counts"
                                    }
                                ]
                            },
                            "data": [
                                {
                                    "0": "BLACK",
                                    "1": "25-44",
                                    "2": "26494"
                                },
                                {
                                    "0": "WHITE HISPANIC",
                                    "1": "25-44",
                                    "2": "18586"
                                },
                                {
                                    "0": "BLACK",
                                    "1": "45-64",
                                    "2": "14022"
                                },
                                {
                                    "0": "WHITE",
                                    "1": "25-44",
                                    "2": "13258"
                                },
                                {
                                    "0": "WHITE",
                                    "1": "45-64",
                                    "2": "9038"
                                },
                                {
                                    "0": "WHITE HISPANIC",
                                    "1": "45-64",
                                    "2": "8323"
                                },
                                {
                                    "0": "ASIAN / PACIFIC ISLANDER",
                                    "1": "25-44",
                                    "2": "7770"
                                },
                                {
                                    "0": "BLACK",
                                    "1": "18-24",
                                    "2": "6437"
                                },
                                {
                                    "0": "WHITE HISPANIC",
                                    "1": "18-24",
                                    "2": "4932"
                                },
                                {
                                    "0": "ASIAN / PACIFIC ISLANDER",
                                    "1": "45-64",
                                    "2": "4434"
                                },
                                {
                                    "0": "BLACK HISPANIC",
                                    "1": "25-44",
                                    "2": "4327"
                                },
                                {
                                    "0": "WHITE",
                                    "1": "65+",
                                    "2": "3188"
                                },
                                {
                                    "0": "BLACK",
                                    "1": "65+",
                                    "2": "2596"
                                },
                                {
                                    "0": "WHITE",
                                    "1": "18-24",
                                    "2": "2431"
                                },
                                {
                                    "0": "NULL",
                                    "1": "25-44",
                                    "2": "2418"
                                },
                                {
                                    "0": "BLACK",
                                    "1": "<18",
                                    "2": "1973"
                                },
                                {
                                    "0": "BLACK HISPANIC",
                                    "1": "45-64",
                                    "2": "1936"
                                },
                                {
                                    "0": "ASIAN / PACIFIC ISLANDER",
                                    "1": "18-24",
                                    "2": "1855"
                                },
                                {
                                    "0": "WHITE HISPANIC",
                                    "1": "<18",
                                    "2": "1574"
                                },
                                {
                                    "0": "WHITE HISPANIC",
                                    "1": "65+",
                                    "2": "1460"
                                },
                                {
                                    "0": "NULL",
                                    "1": "45-64",
                                    "2": "1309"
                                },
                                {
                                    "0": "BLACK HISPANIC",
                                    "1": "18-24",
                                    "2": "1207"
                                },
                                {
                                    "0": "ASIAN / PACIFIC ISLANDER",
                                    "1": "65+",
                                    "2": "844"
                                },
                                {
                                    "0": "WHITE",
                                    "1": "<18",
                                    "2": "669"
                                },
                                {
                                    "0": "NULL",
                                    "1": "18-24",
                                    "2": "538"
                                },
                                {
                                    "0": "BLACK",
                                    "1": "NULL",
                                    "2": "423"
                                },
                                {
                                    "0": "ASIAN / PACIFIC ISLANDER",
                                    "1": "<18",
                                    "2": "413"
                                },
                                {
                                    "0": "BLACK HISPANIC",
                                    "1": "<18",
                                    "2": "369"
                                },
                                {
                                    "0": "BLACK HISPANIC",
                                    "1": "65+",
                                    "2": "360"
                                },
                                {
                                    "0": "AMERICAN INDIAN/ALASKAN NATIVE",
                                    "1": "25-44",
                                    "2": "326"
                                },
                                {
                                    "0": "NULL",
                                    "1": "65+",
                                    "2": "273"
                                },
                                {
                                    "0": "WHITE HISPANIC",
                                    "1": "NULL",
                                    "2": "252"
                                },
                                {
                                    "0": "NULL",
                                    "1": "<18",
                                    "2": "208"
                                },
                                {
                                    "0": "WHITE",
                                    "1": "NULL",
                                    "2": "199"
                                },
                                {
                                    "0": "AMERICAN INDIAN/ALASKAN NATIVE",
                                    "1": "45-64",
                                    "2": "172"
                                },
                                {
                                    "0": "ASIAN / PACIFIC ISLANDER",
                                    "1": "NULL",
                                    "2": "108"
                                },
                                {
                                    "0": "AMERICAN INDIAN/ALASKAN NATIVE",
                                    "1": "18-24",
                                    "2": "71"
                                },
                                {
                                    "0": "BLACK HISPANIC",
                                    "1": "NULL",
                                    "2": "66"
                                },
                                {
                                    "0": "AMERICAN INDIAN/ALASKAN NATIVE",
                                    "1": "65+",
                                    "2": "28"
                                },
                                {
                                    "0": "AMERICAN INDIAN/ALASKAN NATIVE",
                                    "1": "<18",
                                    "2": "16"
                                },
                                {
                                    "0": "AMERICAN INDIAN/ALASKAN NATIVE",
                                    "1": "NULL",
                                    "2": "8"
                                }
                            ]
                        },
                        "text/html": "<table><tr><th>VIC_RACE</th><th>VIC_AGE_GROUP</th><th>Counts</th></tr><tr><td>BLACK</td><td>25-44</td><td>26494</td></tr><tr><td>WHITE HISPANIC</td><td>25-44</td><td>18586</td></tr><tr><td>BLACK</td><td>45-64</td><td>14022</td></tr><tr><td>WHITE</td><td>25-44</td><td>13258</td></tr><tr><td>WHITE</td><td>45-64</td><td>9038</td></tr><tr><td>WHITE HISPANIC</td><td>45-64</td><td>8323</td></tr><tr><td>ASIAN / PACIFIC ISLANDER</td><td>25-44</td><td>7770</td></tr><tr><td>BLACK</td><td>18-24</td><td>6437</td></tr><tr><td>WHITE HISPANIC</td><td>18-24</td><td>4932</td></tr><tr><td>ASIAN / PACIFIC ISLANDER</td><td>45-64</td><td>4434</td></tr><tr><td>BLACK HISPANIC</td><td>25-44</td><td>4327</td></tr><tr><td>WHITE</td><td>65+</td><td>3188</td></tr><tr><td>BLACK</td><td>65+</td><td>2596</td></tr><tr><td>WHITE</td><td>18-24</td><td>2431</td></tr><tr><td>NULL</td><td>25-44</td><td>2418</td></tr><tr><td>BLACK</td><td>&lt;18</td><td>1973</td></tr><tr><td>BLACK HISPANIC</td><td>45-64</td><td>1936</td></tr><tr><td>ASIAN / PACIFIC ISLANDER</td><td>18-24</td><td>1855</td></tr><tr><td>WHITE HISPANIC</td><td>&lt;18</td><td>1574</td></tr><tr><td>WHITE HISPANIC</td><td>65+</td><td>1460</td></tr><tr><td>NULL</td><td>45-64</td><td>1309</td></tr><tr><td>BLACK HISPANIC</td><td>18-24</td><td>1207</td></tr><tr><td>ASIAN / PACIFIC ISLANDER</td><td>65+</td><td>844</td></tr><tr><td>WHITE</td><td>&lt;18</td><td>669</td></tr><tr><td>NULL</td><td>18-24</td><td>538</td></tr><tr><td>BLACK</td><td>NULL</td><td>423</td></tr><tr><td>ASIAN / PACIFIC ISLANDER</td><td>&lt;18</td><td>413</td></tr><tr><td>BLACK HISPANIC</td><td>&lt;18</td><td>369</td></tr><tr><td>BLACK HISPANIC</td><td>65+</td><td>360</td></tr><tr><td>AMERICAN INDIAN/ALASKAN NATIVE</td><td>25-44</td><td>326</td></tr><tr><td>NULL</td><td>65+</td><td>273</td></tr><tr><td>WHITE HISPANIC</td><td>NULL</td><td>252</td></tr><tr><td>NULL</td><td>&lt;18</td><td>208</td></tr><tr><td>WHITE</td><td>NULL</td><td>199</td></tr><tr><td>AMERICAN INDIAN/ALASKAN NATIVE</td><td>45-64</td><td>172</td></tr><tr><td>ASIAN / PACIFIC ISLANDER</td><td>NULL</td><td>108</td></tr><tr><td>AMERICAN INDIAN/ALASKAN NATIVE</td><td>18-24</td><td>71</td></tr><tr><td>BLACK HISPANIC</td><td>NULL</td><td>66</td></tr><tr><td>AMERICAN INDIAN/ALASKAN NATIVE</td><td>65+</td><td>28</td></tr><tr><td>AMERICAN INDIAN/ALASKAN NATIVE</td><td>&lt;18</td><td>16</td></tr><tr><td>AMERICAN INDIAN/ALASKAN NATIVE</td><td>NULL</td><td>8</td></tr></table>"
                    },
                    "metadata": {}
                }
            ],
            "execution_count": 17
        },
        {
            "cell_type": "code",
            "source": [
                "-- Analysis 6: Top offense types across common premises\r\n",
                "\r\n",
                "-- Part 6A: First, look at the top 8 incident-prone premises\r\n",
                "\r\n",
                "SELECT TOP(8)\r\n",
                "    PREM_TYP_DESC,\r\n",
                "    COUNT(*) AS Counts\r\n",
                "FROM Project_4.dbo.npyd_clean\r\n",
                "GROUP BY PREM_TYP_DESC\r\n",
                "ORDER BY Counts DESC"
            ],
            "metadata": {
                "azdata_cell_guid": "eead637c-e377-4601-bbaf-9bf15d58ccdb"
            },
            "outputs": [
                {
                    "output_type": "display_data",
                    "data": {
                        "text/html": "(8 rows affected)"
                    },
                    "metadata": {}
                },
                {
                    "output_type": "display_data",
                    "data": {
                        "text/html": "Total execution time: 00:00:00.165"
                    },
                    "metadata": {}
                },
                {
                    "output_type": "execute_result",
                    "execution_count": 11,
                    "data": {
                        "application/vnd.dataresource+json": {
                            "schema": {
                                "fields": [
                                    {
                                        "name": "PREM_TYP_DESC"
                                    },
                                    {
                                        "name": "Counts"
                                    }
                                ]
                            },
                            "data": [
                                {
                                    "0": "STREET",
                                    "1": "55895"
                                },
                                {
                                    "0": "RESIDENCE - APT. HOUSE",
                                    "1": "47955"
                                },
                                {
                                    "0": "RESIDENCE-HOUSE",
                                    "1": "20604"
                                },
                                {
                                    "0": "RESIDENCE - PUBLIC HOUSING",
                                    "1": "15326"
                                },
                                {
                                    "0": "CHAIN STORE",
                                    "1": "8590"
                                },
                                {
                                    "0": "DEPARTMENT STORE",
                                    "1": "4512"
                                },
                                {
                                    "0": "COMMERCIAL BUILDING",
                                    "1": "4427"
                                },
                                {
                                    "0": "DRUG STORE",
                                    "1": "4206"
                                }
                            ]
                        },
                        "text/html": "<table><tr><th>PREM_TYP_DESC</th><th>Counts</th></tr><tr><td>STREET</td><td>55895</td></tr><tr><td>RESIDENCE - APT. HOUSE</td><td>47955</td></tr><tr><td>RESIDENCE-HOUSE</td><td>20604</td></tr><tr><td>RESIDENCE - PUBLIC HOUSING</td><td>15326</td></tr><tr><td>CHAIN STORE</td><td>8590</td></tr><tr><td>DEPARTMENT STORE</td><td>4512</td></tr><tr><td>COMMERCIAL BUILDING</td><td>4427</td></tr><tr><td>DRUG STORE</td><td>4206</td></tr></table>"
                    },
                    "metadata": {}
                }
            ],
            "execution_count": 11
        },
        {
            "cell_type": "code",
            "source": [
                "-- Part 6B: Now, look at the offense types among these 8 premises\r\n",
                "\r\n",
                "SELECT TOP(10)\r\n",
                "    OFNS_DESC,\r\n",
                "    COUNT(*) AS Incident_Count_Among_8_Prem\r\n",
                "FROM Project_4.dbo.npyd_clean\r\n",
                "WHERE PREM_TYP_DESC IN (\r\n",
                "    SELECT TOP(8)\r\n",
                "        PREM_TYP_DESC\r\n",
                "    FROM Project_4.dbo.npyd_clean\r\n",
                "    GROUP BY PREM_TYP_DESC\r\n",
                "    ORDER BY COUNT(*) DESC\r\n",
                ")\r\n",
                "GROUP BY OFNS_DESC\r\n",
                "ORDER BY Incident_Count_Among_8_Prem DESC"
            ],
            "metadata": {
                "azdata_cell_guid": "ee99c979-cde5-49ad-92e3-852ac0f2b811",
                "tags": []
            },
            "outputs": [
                {
                    "output_type": "display_data",
                    "data": {
                        "text/html": "(10 rows affected)"
                    },
                    "metadata": {}
                },
                {
                    "output_type": "display_data",
                    "data": {
                        "text/html": "Total execution time: 00:00:00.290"
                    },
                    "metadata": {}
                },
                {
                    "output_type": "execute_result",
                    "execution_count": 12,
                    "data": {
                        "application/vnd.dataresource+json": {
                            "schema": {
                                "fields": [
                                    {
                                        "name": "OFNS_DESC"
                                    },
                                    {
                                        "name": "Incident_Count_Among_8_Prem"
                                    }
                                ]
                            },
                            "data": [
                                {
                                    "0": "PETIT LARCENY",
                                    "1": "31536"
                                },
                                {
                                    "0": "HARRASSMENT 2",
                                    "1": "28238"
                                },
                                {
                                    "0": "ASSAULT 3 & RELATED OFFENSES",
                                    "1": "17520"
                                },
                                {
                                    "0": "CRIMINAL MISCHIEF & RELATED OF",
                                    "1": "15587"
                                },
                                {
                                    "0": "GRAND LARCENY",
                                    "1": "11420"
                                },
                                {
                                    "0": "FELONY ASSAULT",
                                    "1": "8290"
                                },
                                {
                                    "0": "OFF. AGNST PUB ORD SENSBLTY &",
                                    "1": "7001"
                                },
                                {
                                    "0": "MISCELLANEOUS PENAL LAW",
                                    "1": "6035"
                                },
                                {
                                    "0": "ROBBERY",
                                    "1": "4314"
                                },
                                {
                                    "0": "GRAND LARCENY OF MOTOR VEHICLE",
                                    "1": "3947"
                                }
                            ]
                        },
                        "text/html": "<table><tr><th>OFNS_DESC</th><th>Incident_Count_Among_8_Prem</th></tr><tr><td>PETIT LARCENY</td><td>31536</td></tr><tr><td>HARRASSMENT 2</td><td>28238</td></tr><tr><td>ASSAULT 3 &amp; RELATED OFFENSES</td><td>17520</td></tr><tr><td>CRIMINAL MISCHIEF &amp; RELATED OF</td><td>15587</td></tr><tr><td>GRAND LARCENY</td><td>11420</td></tr><tr><td>FELONY ASSAULT</td><td>8290</td></tr><tr><td>OFF. AGNST PUB ORD SENSBLTY &amp;</td><td>7001</td></tr><tr><td>MISCELLANEOUS PENAL LAW</td><td>6035</td></tr><tr><td>ROBBERY</td><td>4314</td></tr><tr><td>GRAND LARCENY OF MOTOR VEHICLE</td><td>3947</td></tr></table>"
                    },
                    "metadata": {}
                }
            ],
            "execution_count": 12
        },
        {
            "cell_type": "code",
            "source": [
                "-- Analysis 7: Victim-suspect correlations\r\n",
                "-- We will only look at female and male correspondences here\r\n",
                "\r\n",
                "-- Part 7A: First, look the suspect gender breakdown for female victims\r\n",
                "\r\n",
                "WITH unrounded_percent AS (\r\n",
                "    SELECT\r\n",
                "        SUM(CASE WHEN SUSP_SEX = 'FEMALE' THEN 1 END) * 100.0 / \r\n",
                "        SUM(CASE WHEN SUSP_SEX IN ('FEMALE', 'MALE') THEN 1 END) AS F,\r\n",
                "        SUM(CASE WHEN SUSP_SEX = 'MALE' THEN 1 END) * 100.0 / \r\n",
                "        SUM(CASE WHEN SUSP_SEX IN ('FEMALE', 'MALE') THEN 1 END) AS M\r\n",
                "    FROM Project_4.dbo.npyd_clean\r\n",
                "    WHERE VIC_SEX = 'FEMALE')\r\n",
                "SELECT\r\n",
                "    CAST(ROUND(F, 2) AS DECIMAL(5,2)) AS Female_Suspect_Percent_For_Female_Victims,\r\n",
                "    CAST(ROUND(M, 2) AS DECIMAL(5,2)) AS Male_Suspect_Percent_For_Female_Victims\r\n",
                "FROM unrounded_percent"
            ],
            "metadata": {
                "azdata_cell_guid": "b099e0d8-11c0-4060-a42c-0487339b1fb7"
            },
            "outputs": [
                {
                    "output_type": "display_data",
                    "data": {
                        "text/html": "Warning: Null value is eliminated by an aggregate or other SET operation."
                    },
                    "metadata": {}
                },
                {
                    "output_type": "display_data",
                    "data": {
                        "text/html": "(1 row affected)"
                    },
                    "metadata": {}
                },
                {
                    "output_type": "display_data",
                    "data": {
                        "text/html": "Total execution time: 00:00:00.110"
                    },
                    "metadata": {}
                },
                {
                    "output_type": "execute_result",
                    "execution_count": 13,
                    "data": {
                        "application/vnd.dataresource+json": {
                            "schema": {
                                "fields": [
                                    {
                                        "name": "Female_Suspect_Percent_For_Female_Victims"
                                    },
                                    {
                                        "name": "Male_Suspect_Percent_For_Female_Victims"
                                    }
                                ]
                            },
                            "data": [
                                {
                                    "0": "24.53",
                                    "1": "75.47"
                                }
                            ]
                        },
                        "text/html": "<table><tr><th>Female_Suspect_Percent_For_Female_Victims</th><th>Male_Suspect_Percent_For_Female_Victims</th></tr><tr><td>24.53</td><td>75.47</td></tr></table>"
                    },
                    "metadata": {}
                }
            ],
            "execution_count": 13
        },
        {
            "cell_type": "code",
            "source": [
                "-- Part 7B: Now, look the suspect gender breakdown for male victims\r\n",
                "\r\n",
                "WITH unrounded_percent AS (\r\n",
                "    SELECT\r\n",
                "        SUM(CASE WHEN SUSP_SEX = 'FEMALE' THEN 1 END) * 100.0 / \r\n",
                "        SUM(CASE WHEN SUSP_SEX IN ('FEMALE', 'MALE') THEN 1 END) AS F,\r\n",
                "        SUM(CASE WHEN SUSP_SEX = 'MALE' THEN 1 END) * 100.0 / \r\n",
                "        SUM(CASE WHEN SUSP_SEX IN ('FEMALE', 'MALE') THEN 1 END) AS M\r\n",
                "    FROM Project_4.dbo.npyd_clean\r\n",
                "    WHERE VIC_SEX = 'MALE')\r\n",
                "SELECT\r\n",
                "    CAST(ROUND(F, 2) AS DECIMAL(5,2)) AS Female_Suspect_Percent_For_Male_Victims,\r\n",
                "    CAST(ROUND(M, 2) AS DECIMAL(5,2)) AS Male_Suspect_Percent_For_Male_Victims\r\n",
                "FROM unrounded_percent"
            ],
            "metadata": {
                "azdata_cell_guid": "2a45b62b-7fec-470d-b02d-b191f7540bfb"
            },
            "outputs": [
                {
                    "output_type": "display_data",
                    "data": {
                        "text/html": "Warning: Null value is eliminated by an aggregate or other SET operation."
                    },
                    "metadata": {}
                },
                {
                    "output_type": "display_data",
                    "data": {
                        "text/html": "(1 row affected)"
                    },
                    "metadata": {}
                },
                {
                    "output_type": "display_data",
                    "data": {
                        "text/html": "Total execution time: 00:00:00.051"
                    },
                    "metadata": {}
                },
                {
                    "output_type": "execute_result",
                    "execution_count": 14,
                    "data": {
                        "application/vnd.dataresource+json": {
                            "schema": {
                                "fields": [
                                    {
                                        "name": "Female_Suspect_Percent_For_Male_Victims"
                                    },
                                    {
                                        "name": "Male_Suspect_Percent_For_Male_Victims"
                                    }
                                ]
                            },
                            "data": [
                                {
                                    "0": "23.61",
                                    "1": "76.39"
                                }
                            ]
                        },
                        "text/html": "<table><tr><th>Female_Suspect_Percent_For_Male_Victims</th><th>Male_Suspect_Percent_For_Male_Victims</th></tr><tr><td>23.61</td><td>76.39</td></tr></table>"
                    },
                    "metadata": {}
                }
            ],
            "execution_count": 14
        },
        {
            "cell_type": "code",
            "source": [
                "-- Analysis 8: Top 5 offense types among each suspect age group\r\n",
                "\r\n",
                "WITH Counts AS (\r\n",
                "    SELECT\r\n",
                "        SUSP_AGE_GROUP,\r\n",
                "        OFNS_DESC,\r\n",
                "        COUNT(*) AS Counts\r\n",
                "    FROM Project_4.dbo.npyd_clean\r\n",
                "    GROUP BY SUSP_AGE_GROUP, OFNS_DESC\r\n",
                "    ),\r\n",
                "    [Rank] AS (\r\n",
                "        SELECT\r\n",
                "        *,\r\n",
                "        RANK() OVER (PARTITION BY SUSP_AGE_GROUP ORDER BY Counts DESC) AS [Rank]\r\n",
                "    FROM Counts\r\n",
                "    )\r\n",
                "SELECT\r\n",
                "    SUSP_AGE_GROUP,\r\n",
                "    [Rank],\r\n",
                "    Counts,\r\n",
                "    OFNS_DESC\r\n",
                "FROM [Rank]\r\n",
                "WHERE [Rank] <=5 \r\n",
                "    AND SUSP_AGE_GROUP IS NOT NULL"
            ],
            "metadata": {
                "azdata_cell_guid": "2d194ace-960a-4389-959b-384524fde9f8",
                "tags": []
            },
            "outputs": [
                {
                    "output_type": "display_data",
                    "data": {
                        "text/html": "(25 rows affected)"
                    },
                    "metadata": {}
                },
                {
                    "output_type": "display_data",
                    "data": {
                        "text/html": "Total execution time: 00:00:00.135"
                    },
                    "metadata": {}
                },
                {
                    "output_type": "execute_result",
                    "execution_count": 15,
                    "data": {
                        "application/vnd.dataresource+json": {
                            "schema": {
                                "fields": [
                                    {
                                        "name": "SUSP_AGE_GROUP"
                                    },
                                    {
                                        "name": "Rank"
                                    },
                                    {
                                        "name": "Counts"
                                    },
                                    {
                                        "name": "OFNS_DESC"
                                    }
                                ]
                            },
                            "data": [
                                {
                                    "0": "<18",
                                    "1": "1",
                                    "2": "679",
                                    "3": "HARRASSMENT 2"
                                },
                                {
                                    "0": "<18",
                                    "1": "2",
                                    "2": "595",
                                    "3": "ASSAULT 3 & RELATED OFFENSES"
                                },
                                {
                                    "0": "<18",
                                    "1": "3",
                                    "2": "199",
                                    "3": "CRIMINAL MISCHIEF & RELATED OF"
                                },
                                {
                                    "0": "<18",
                                    "1": "4",
                                    "2": "193",
                                    "3": "FELONY ASSAULT"
                                },
                                {
                                    "0": "<18",
                                    "1": "5",
                                    "2": "192",
                                    "3": "ROBBERY"
                                },
                                {
                                    "0": "18-24",
                                    "1": "1",
                                    "2": "2650",
                                    "3": "ASSAULT 3 & RELATED OFFENSES"
                                },
                                {
                                    "0": "18-24",
                                    "1": "2",
                                    "2": "2535",
                                    "3": "HARRASSMENT 2"
                                },
                                {
                                    "0": "18-24",
                                    "1": "3",
                                    "2": "1102",
                                    "3": "FELONY ASSAULT"
                                },
                                {
                                    "0": "18-24",
                                    "1": "4",
                                    "2": "1004",
                                    "3": "CRIMINAL MISCHIEF & RELATED OF"
                                },
                                {
                                    "0": "18-24",
                                    "1": "5",
                                    "2": "962",
                                    "3": "PETIT LARCENY"
                                },
                                {
                                    "0": "25-44",
                                    "1": "1",
                                    "2": "11171",
                                    "3": "HARRASSMENT 2"
                                },
                                {
                                    "0": "25-44",
                                    "1": "2",
                                    "2": "8598",
                                    "3": "ASSAULT 3 & RELATED OFFENSES"
                                },
                                {
                                    "0": "25-44",
                                    "1": "3",
                                    "2": "6028",
                                    "3": "PETIT LARCENY"
                                },
                                {
                                    "0": "25-44",
                                    "1": "4",
                                    "2": "3876",
                                    "3": "FELONY ASSAULT"
                                },
                                {
                                    "0": "25-44",
                                    "1": "5",
                                    "2": "3158",
                                    "3": "CRIMINAL MISCHIEF & RELATED OF"
                                },
                                {
                                    "0": "45-64",
                                    "1": "1",
                                    "2": "5049",
                                    "3": "HARRASSMENT 2"
                                },
                                {
                                    "0": "45-64",
                                    "1": "2",
                                    "2": "2626",
                                    "3": "ASSAULT 3 & RELATED OFFENSES"
                                },
                                {
                                    "0": "45-64",
                                    "1": "3",
                                    "2": "2111",
                                    "3": "PETIT LARCENY"
                                },
                                {
                                    "0": "45-64",
                                    "1": "4",
                                    "2": "1245",
                                    "3": "FELONY ASSAULT"
                                },
                                {
                                    "0": "45-64",
                                    "1": "5",
                                    "2": "916",
                                    "3": "DANGEROUS DRUGS"
                                },
                                {
                                    "0": "65+",
                                    "1": "1",
                                    "2": "822",
                                    "3": "HARRASSMENT 2"
                                },
                                {
                                    "0": "65+",
                                    "1": "2",
                                    "2": "277",
                                    "3": "ASSAULT 3 & RELATED OFFENSES"
                                },
                                {
                                    "0": "65+",
                                    "1": "3",
                                    "2": "124",
                                    "3": "FELONY ASSAULT"
                                },
                                {
                                    "0": "65+",
                                    "1": "4",
                                    "2": "86",
                                    "3": "PETIT LARCENY"
                                },
                                {
                                    "0": "65+",
                                    "1": "4",
                                    "2": "86",
                                    "3": "MISCELLANEOUS PENAL LAW"
                                }
                            ]
                        },
                        "text/html": "<table><tr><th>SUSP_AGE_GROUP</th><th>Rank</th><th>Counts</th><th>OFNS_DESC</th></tr><tr><td>&lt;18</td><td>1</td><td>679</td><td>HARRASSMENT 2</td></tr><tr><td>&lt;18</td><td>2</td><td>595</td><td>ASSAULT 3 &amp; RELATED OFFENSES</td></tr><tr><td>&lt;18</td><td>3</td><td>199</td><td>CRIMINAL MISCHIEF &amp; RELATED OF</td></tr><tr><td>&lt;18</td><td>4</td><td>193</td><td>FELONY ASSAULT</td></tr><tr><td>&lt;18</td><td>5</td><td>192</td><td>ROBBERY</td></tr><tr><td>18-24</td><td>1</td><td>2650</td><td>ASSAULT 3 &amp; RELATED OFFENSES</td></tr><tr><td>18-24</td><td>2</td><td>2535</td><td>HARRASSMENT 2</td></tr><tr><td>18-24</td><td>3</td><td>1102</td><td>FELONY ASSAULT</td></tr><tr><td>18-24</td><td>4</td><td>1004</td><td>CRIMINAL MISCHIEF &amp; RELATED OF</td></tr><tr><td>18-24</td><td>5</td><td>962</td><td>PETIT LARCENY</td></tr><tr><td>25-44</td><td>1</td><td>11171</td><td>HARRASSMENT 2</td></tr><tr><td>25-44</td><td>2</td><td>8598</td><td>ASSAULT 3 &amp; RELATED OFFENSES</td></tr><tr><td>25-44</td><td>3</td><td>6028</td><td>PETIT LARCENY</td></tr><tr><td>25-44</td><td>4</td><td>3876</td><td>FELONY ASSAULT</td></tr><tr><td>25-44</td><td>5</td><td>3158</td><td>CRIMINAL MISCHIEF &amp; RELATED OF</td></tr><tr><td>45-64</td><td>1</td><td>5049</td><td>HARRASSMENT 2</td></tr><tr><td>45-64</td><td>2</td><td>2626</td><td>ASSAULT 3 &amp; RELATED OFFENSES</td></tr><tr><td>45-64</td><td>3</td><td>2111</td><td>PETIT LARCENY</td></tr><tr><td>45-64</td><td>4</td><td>1245</td><td>FELONY ASSAULT</td></tr><tr><td>45-64</td><td>5</td><td>916</td><td>DANGEROUS DRUGS</td></tr><tr><td>65+</td><td>1</td><td>822</td><td>HARRASSMENT 2</td></tr><tr><td>65+</td><td>2</td><td>277</td><td>ASSAULT 3 &amp; RELATED OFFENSES</td></tr><tr><td>65+</td><td>3</td><td>124</td><td>FELONY ASSAULT</td></tr><tr><td>65+</td><td>4</td><td>86</td><td>PETIT LARCENY</td></tr><tr><td>65+</td><td>4</td><td>86</td><td>MISCELLANEOUS PENAL LAW</td></tr></table>"
                    },
                    "metadata": {}
                }
            ],
            "execution_count": 15
        },
        {
            "cell_type": "markdown",
            "source": [
                "## **Conclusion and Call to Action**\n",
                "\n",
                "<span style=\"font-size: 10.5pt; font-family: &quot;Segoe UI&quot;, sans-serif;\">Analysis 1</span>\n",
                "\n",
                "> <span style=\"font-size: 10.5pt; font-family: &quot;Segoe UI&quot;, sans-serif;\">The Bronx patrol handled the highest proportion (one-fifth) of complaint incidents in New York City. Conversely, the Staten Island patrol handled a significantly low proportion.</span>\n",
                "> \n",
                "> <span style=\"font-size: 10.5pt; font-family: &quot;Segoe UI&quot;, sans-serif;\">To see if these police forces are over-utilized or under-utilized, we should compare the figures with the population proportions and the police force size proportions in the respective regions. With this information, the NYPD might be able to better allocate their resources.</span>\n",
                "\n",
                "<span style=\"font-size: 10.5pt; font-family: &quot;Segoe UI&quot;, sans-serif;\">Analysis 2</span>\n",
                "\n",
                "> <span style=\"font-size: 10.5pt; font-family: &quot;Segoe UI&quot;, sans-serif;\">Across boroughs, misdemeanours contributed the most to complaints, followed by felonies. The number of complaints were evenly distributed across boroughs, except for Staten Island, which had a low number of incidents.</span>\n",
                "> \n",
                "> <span style=\"font-size: 10.5pt; font-family: &quot;Segoe UI&quot;, sans-serif;\">To see if specific regions are more crime-encouraging, we should compare the figures with the population proportion. This further investigation gives insight into the formulation of specific measures in crime control.</span>\n",
                "\n",
                "<span style=\"font-size: 10.5pt; font-family: &quot;Segoe UI&quot;, sans-serif;\">Analysis 3 and 4</span>\n",
                "\n",
                "> <span style=\"font-size: 10.5pt; font-family: &quot;Segoe UI&quot;, sans-serif;\">In general, complaint rates peaked at mid-afternoon, tapered off until morning next day, and gradually rose again afterwards. However, on a month-to-month basis, there was no obvious trend other than slight fluctuations.</span>\n",
                "> \n",
                "> <span style=\"font-size: 10.5pt; font-family: &quot;Segoe UI&quot;, sans-serif;\">The NYPD can resource-manage their emergency response centres accordingly, such that all complaints can be quickly addressed.</span>\n",
                "\n",
                "<span style=\"font-size: 10.5pt; font-family: &quot;Segoe UI&quot;, sans-serif;\">Analysis 5</span>\n",
                "\n",
                "> <span style=\"font-size: 10.5pt; font-family: &quot;Segoe UI&quot;, sans-serif;\">The 25-44 age group occupy a large share of victims. This is also true for the black, white, and white Hispanic communities.</span>\n",
                "> \n",
                "> <span style=\"font-size: 10.5pt; font-family: &quot;Segoe UI&quot;, sans-serif;\">We should compare these figures with the demographic proportions in NYC, such that the NYPD and policy makers can better find and protect victim-prone communities.</span>\n",
                "\n",
                "<span style=\"font-size: 10.5pt; font-family: &quot;Segoe UI&quot;, sans-serif;\">Analysis 6</span>\n",
                "\n",
                "> <span style=\"font-size: 10.5pt; font-family: &quot;Segoe UI&quot;, sans-serif;\">Crime incidents occur most frequently on the streets and in residences.</span>\n",
                "> \n",
                "> <span style=\"font-size: 10.5pt; font-family: &quot;Segoe UI&quot;, sans-serif;\">While these figures might have been inflated by virtue that most people simply congregate there, we are reminded that more efforts are needed in safeguarding these areas.</span>\n",
                "\n",
                "<span style=\"font-size: 10.5pt; font-family: &quot;Segoe UI&quot;, sans-serif;\">Analysis 7</span>\n",
                "\n",
                "> <span style=\"font-size: 10.5pt; font-family: &quot;Segoe UI&quot;, sans-serif;\">Male suspects accounted for over 75% of complaints across females and male victims.</span>\n",
                "> \n",
                "> <span style=\"font-size: 10.5pt; font-family: &quot;Segoe UI&quot;, sans-serif;\">Further investigation can help understand if males are more likely to commit crime or are simply more likely to get reported.</span>\n",
                "\n",
                "<span style=\"font-size: 10.5pt; font-family: &quot;Segoe UI&quot;, sans-serif;\">Analysis 8</span>\n",
                "\n",
                "> <span style=\"font-size: 10.5pt; font-family: &quot;Segoe UI&quot;, sans-serif;\">There are a lot to look at.</span>\n",
                "> \n",
                "> <span style=\"font-size: 10.5pt; font-family: &quot;Segoe UI&quot;, sans-serif;\">For instance, across suspect age groups, the most common offense type was harassment in the second degree. Whereas suspects aged under 18 were commonly accused of robbery, suspect of older ages were commonly accused of petit larceny instead.</span>\n",
                "> \n",
                "> <span style=\"font-size: 10.5pt; font-family: &quot;Segoe UI&quot;, sans-serif;\">Age-specific measures such as education, policies and punishment might be needed to effectively curtail certain behaviours.</span>"
            ],
            "metadata": {
                "azdata_cell_guid": "8fec9c07-fff6-4f09-a5c1-11ce4f8dfad0"
            },
            "attachments": {}
        }
    ]
}